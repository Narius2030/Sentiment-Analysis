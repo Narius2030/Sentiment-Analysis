{
  "cells": [
    {
      "cell_type": "markdown",
      "metadata": {},
      "source": [
        "## 1. Import the necessary libraries"
      ]
    },
    {
      "cell_type": "code",
      "execution_count": 1,
      "metadata": {
        "colab": {
          "base_uri": "https://localhost:8080/"
        },
        "id": "ynsLjm6vGs1E",
        "outputId": "7f461a0e-e7a8-462c-b0a3-4a71cb7ce1cf"
      },
      "outputs": [
        {
          "name": "stdout",
          "output_type": "stream",
          "text": [
            "importing Jupyter notebook from data_process.ipynb\n",
            "<class 'pandas.core.frame.DataFrame'>\n",
            "RangeIndex: 7786 entries, 0 to 7785\n",
            "Data columns (total 5 columns):\n",
            " #   Column     Non-Null Count  Dtype \n",
            "---  ------     --------------  ----- \n",
            " 0   index      7786 non-null   int64 \n",
            " 1   comment    7786 non-null   object\n",
            " 2   n_star     7786 non-null   int64 \n",
            " 3   date_time  7786 non-null   object\n",
            " 4   label      7786 non-null   object\n",
            "dtypes: int64(2), object(3)\n",
            "memory usage: 304.3+ KB\n"
          ]
        },
        {
          "name": "stderr",
          "output_type": "stream",
          "text": [
            "<string>:3: UserWarning: Could not infer format, so each element will be parsed individually, falling back to `dateutil`. To ensure parsing is consistent and as-expected, please specify a format.\n",
            "<string>:7: FutureWarning: A value is trying to be set on a copy of a DataFrame or Series through chained assignment using an inplace method.\n",
            "The behavior will change in pandas 3.0. This inplace method will never work because the intermediate object on which we are setting values always behaves as a copy.\n",
            "\n",
            "For example, when doing 'df[col].method(value, inplace=True)', try using 'df.method({col: value}, inplace=True)' or df[col] = df[col].method(value) instead, to perform the operation inplace on the original object.\n",
            "\n",
            "\n",
            "<string>:7: FutureWarning: A value is trying to be set on a copy of a DataFrame or Series through chained assignment using an inplace method.\n",
            "The behavior will change in pandas 3.0. This inplace method will never work because the intermediate object on which we are setting values always behaves as a copy.\n",
            "\n",
            "For example, when doing 'df[col].method(value, inplace=True)', try using 'df.method({col: value}, inplace=True)' or df[col] = df[col].method(value) instead, to perform the operation inplace on the original object.\n",
            "\n",
            "\n"
          ]
        },
        {
          "name": "stdout",
          "output_type": "stream",
          "text": [
            "(7786, 8)\n",
            "Index(['index', 'comment', 'n_star', 'date_time', 'label', 'positive_count',\n",
            "       'neutral_count', 'negative_count'],\n",
            "      dtype='object')\n",
            "(2224, 8)\n",
            "Index(['index', 'comment', 'n_star', 'date_time', 'label', 'positive_count',\n",
            "       'neutral_count', 'negative_count'],\n",
            "      dtype='object')\n"
          ]
        }
      ],
      "source": [
        "from gensim.models import Word2Vec,KeyedVectors\n",
        "import numpy as np\n",
        "from tqdm import tqdm\n",
        "import pandas as pd\n",
        "from keras.utils import to_categorical\n",
        "import numpy as np\n",
        "from keras.utils import plot_model\n",
        "from pyvi import ViTokenizer\n",
        "import matplotlib.pyplot as plt\n",
        "import import_ipynb\n",
        "from data_process import remove_punctuation,remove_stopword\n",
        "from keras.callbacks import EarlyStopping\n",
        "from sklearn.manifold import TSNE\n",
        "from keras.models import Sequential\n",
        "from keras.layers import Conv2D, MaxPooling2D, Dropout, Flatten, Dense,BatchNormalization,LSTM,TimeDistributed\n",
        "from keras.models import load_model\n",
        "from sklearn.preprocessing import LabelEncoder\n",
        "from sklearn.metrics import accuracy_score, precision_score, recall_score, f1_score"
      ]
    },
    {
      "cell_type": "markdown",
      "metadata": {},
      "source": [
        "## 2 Data preprocessing"
      ]
    },
    {
      "cell_type": "markdown",
      "metadata": {},
      "source": [
        "> Read File CSV"
      ]
    },
    {
      "cell_type": "code",
      "execution_count": 2,
      "metadata": {
        "id": "oalbYOlIH8W6"
      },
      "outputs": [],
      "source": [
        "def ReadData(path):\n",
        "    df=pd.read_csv(path,encoding='utf-8')\n",
        "    return df['comment'], df['label']"
      ]
    },
    {
      "cell_type": "markdown",
      "metadata": {},
      "source": [
        "> Execute function"
      ]
    },
    {
      "cell_type": "code",
      "execution_count": 3,
      "metadata": {
        "id": "-B-aN4V8G5d6"
      },
      "outputs": [],
      "source": [
        "X_train,y_train = ReadData(\"../data/mobile_feedback/Cleaned_Train.csv\")\n",
        "X_test,y_test=ReadData(\"../data/mobile_feedback/Cleaned_Test.csv\")"
      ]
    },
    {
      "cell_type": "code",
      "execution_count": 4,
      "metadata": {},
      "outputs": [
        {
          "name": "stdout",
          "output_type": "stream",
          "text": [
            "X_Train size:(7786,)\n",
            "y_train size (7786,)\n"
          ]
        }
      ],
      "source": [
        "print(f\"X_Train size:{X_train.shape}\")\n",
        "print(f\"y_train size {y_train.shape}\")"
      ]
    },
    {
      "cell_type": "markdown",
      "metadata": {},
      "source": [
        "> word separation"
      ]
    },
    {
      "cell_type": "code",
      "execution_count": 5,
      "metadata": {},
      "outputs": [],
      "source": [
        "def wordseparation(comment):\n",
        "    return [review.split() for review in comment]"
      ]
    },
    {
      "cell_type": "code",
      "execution_count": 6,
      "metadata": {},
      "outputs": [
        {
          "name": "stdout",
          "output_type": "stream",
          "text": [
            "X_Train: [['mới', 'mua', 'máy', 'thegioididong', 'thốt_nốt', 'cảm_thấy', 'ok', 'bin', 'trâu', 'chụp', 'ảnh', 'đẹp', 'loa', 'nghe', 'to', 'bắt', 'wf', 'khỏe_sóng', 'ổn_định', 'giá_thành', 'túi_tiền', 'nhân_viên', 'tư_vấn', 'nhiệt_tình'], ['pin', 'kém', 'còn', 'miễn', 'chê', 'mua', '832019', 'tình_trạng', 'pin', 'còn', '88', 'ai', 'giống', 'tôi']]\n",
            "X_test: [['điện', 'thoải', 'ổn', 'facelock', 'cực', 'nhanh', 'vân', 'tay', 'ôk', 'màn_hình', 'lớn', 'pin', 'trâu', 'liên_quân', 'zalo', 'youtube', 'một', 'ngày', 'mất', 'khoảng', '45', 'tuy', 'chip', '439', 'mượt', 'đa_nhiệm', 'khá', 'ổn'], ['mình', 'mới', 'mua', 'vivo91c', 'tải', 'ứng_dụng', 'games', 'nhanh', 'hài_lòng', 'cài', 'hình', 'nền', 'khóa', 'màn_hình', 'hay', 'mình', 'biết', 'hết', 'chức_năng', 'nó', 'tư_vấn', 'viên', 'nhiệt_tình']]\n"
          ]
        }
      ],
      "source": [
        "X_train=wordseparation(X_train)\n",
        "X_test=wordseparation(X_test)\n",
        "print(f\"X_Train: {X_train[0:2]}\")\n",
        "print(f\"X_test: {X_test[0:2]}\")"
      ]
    },
    {
      "cell_type": "markdown",
      "metadata": {},
      "source": [
        "> word embedding"
      ]
    },
    {
      "cell_type": "code",
      "execution_count": 7,
      "metadata": {},
      "outputs": [],
      "source": [
        "model_wordembedding = Word2Vec(sentences=X_train, vector_size=128, window=5, min_count=0, workers=4, sg=1)\n",
        "model_wordembedding.wv.save(\"../model/word.model\")"
      ]
    },
    {
      "cell_type": "markdown",
      "metadata": {},
      "source": [
        "> Load Model_Word2Vec"
      ]
    },
    {
      "cell_type": "code",
      "execution_count": 8,
      "metadata": {},
      "outputs": [
        {
          "name": "stdout",
          "output_type": "stream",
          "text": [
            "Number of Words: 11621\n",
            "Vector: [-0.12509967 -0.3696522   0.2503154   0.00886213  0.20841986  0.00426314\n",
            " -0.2463825  -0.13280849 -0.43080255  0.45672074  0.23897177  0.00887215\n",
            " -0.29319263 -0.19111127  0.05143567  0.14275284 -0.4782563   0.0905299\n",
            " -0.18768716  0.15582123  0.01929825  0.14267097 -0.2506925  -0.5097568\n",
            " -0.16217557  0.33448052 -0.3838615   0.10868824  0.06069218 -0.07009725\n",
            " -0.17111877 -0.08521879  0.13769907  0.05476607  0.08402456  0.22213873\n",
            "  0.713708   -0.17786922  0.04558583 -0.10973665 -0.32767597 -0.13184947\n",
            "  0.15711176 -0.21820167  0.13021919  0.12899426 -0.39897498 -0.1822898\n",
            " -0.17315504  0.2224631   0.13525362  0.17775442  0.30500546  0.08459339\n",
            " -0.16593523  0.11626339  0.31165558 -0.02737031 -0.15669133 -0.15583809\n",
            " -0.0419164   0.00896834  0.1882001  -0.06913081  0.36626774  0.28606993\n",
            " -0.09595013  0.28147912 -0.11774146 -0.35970858  0.17416184 -0.38038707\n",
            " -0.55193317 -0.11163882 -0.06762918 -0.34135535 -0.14546973  0.46256372\n",
            " -0.18948114  0.23384115 -0.27382952 -0.06404919  0.03307786  0.41472638\n",
            "  0.16737518  0.22682178  0.15753709 -0.1004097   0.2158472   0.08437879\n",
            " -0.06270042 -0.06067844 -0.09033107 -0.24511197  0.5915789   0.10502287\n",
            " -0.1578159  -0.3651422  -0.25318936 -0.03629998 -0.11539087  0.19491649\n",
            " -0.31227523 -0.04944339  0.12249982  0.2668476  -0.14437549  0.27364755\n",
            " -0.04103874 -0.09549879  0.19310251 -0.27948582  0.19130978  0.04941292\n",
            "  0.01012409 -0.06115466  0.06706478  0.02824989  0.04814004 -0.26642397\n",
            " -0.13121808 -0.1983315   0.07890592  0.09802187 -0.31481197 -0.12096211\n",
            " -0.01931519  0.18264732]\n"
          ]
        }
      ],
      "source": [
        "model_embedding = KeyedVectors.load('../model/word.model')\n",
        "num_words = len(model_embedding.index_to_key)\n",
        "print(\"Number of Words:\", num_words)\n",
        "print(\"Vector:\", model_embedding.get_vector('phần_mềm'))"
      ]
    },
    {
      "cell_type": "markdown",
      "metadata": {},
      "source": [
        "> Get a list of vector representations of words"
      ]
    },
    {
      "cell_type": "code",
      "execution_count": 318,
      "metadata": {},
      "outputs": [
        {
          "name": "stdout",
          "output_type": "stream",
          "text": [
            "[[90.9323   10.64996 ]\n",
            " [91.4266    8.633709]]\n"
          ]
        }
      ],
      "source": [
        "# Lấy danh sách các vectơ từ\n",
        "vectors = [model_embedding.get_vector(word) for word in model_embedding.index_to_key]\n",
        "vectors_array = np.array(vectors)\n",
        "# Giảm chiều dữ liệu từ 128 chiều xuống còn 2 chiều bằng t-SNE\n",
        "tsne = TSNE(n_components=2, random_state=42)\n",
        "vectors_2d = tsne.fit_transform(vectors_array)\n",
        "print(vectors_2d[0:2])"
      ]
    },
    {
      "cell_type": "markdown",
      "metadata": {},
      "source": [
        "> Visualize the context and semantic correlation of words"
      ]
    },
    {
      "cell_type": "code",
      "execution_count": 319,
      "metadata": {},
      "outputs": [
        {
          "data": {
            "image/png": "[encoded data removed]",
            "text/plain": [
              "<Figure size 1000x1000 with 1 Axes>"
            ]
          },
          "metadata": {},
          "output_type": "display_data"
        }
      ],
      "source": [
        "# Trực quan hóa các vectơ từ\n",
        "plt.figure(figsize=(10, 10))\n",
        "num_words = 30\n",
        "# Màu cho mỗi từ\n",
        "colors = plt.cm.rainbow(np.linspace(0, 1, num_words))\n",
        "\n",
        "# Vẽ các điểm dữ liệu (từ) với màu khác nhau\n",
        "for i, word in enumerate(model_embedding.index_to_key[:num_words]):  \n",
        "    plt.scatter(vectors_2d[i, 0], vectors_2d[i, 1], marker='o', color=colors[i], alpha=0.6)\n",
        "    plt.annotate(word, xy=(vectors_2d[i, 0], vectors_2d[i, 1]), fontsize=10, color=colors[i])\n",
        "\n",
        "plt.xlabel('t-SNE Component 1')\n",
        "plt.ylabel('t-SNE Component 2')\n",
        "plt.title('t-SNE Visualization of Word Embeddings (First 30 Words)')\n",
        "plt.grid(True)\n",
        "plt.show()\n"
      ]
    },
    {
      "cell_type": "markdown",
      "metadata": {},
      "source": [
        "> Corpus"
      ]
    },
    {
      "cell_type": "code",
      "execution_count": 320,
      "metadata": {},
      "outputs": [
        {
          "data": {
            "text/plain": [
              "{'máy': 0,\n",
              " 'mua': 1,\n",
              " 'pin': 2,\n",
              " 'mình': 3,\n",
              " 'game': 4,\n",
              " 'dùng': 5,\n",
              " 'mới': 6,\n",
              " 'tốt': 7,\n",
              " 'chơi': 8,\n",
              " 'ko': 9,\n",
              " 'quá': 10,\n",
              " 'ok': 11,\n",
              " 'giá': 12,\n",
              " '1': 13,\n",
              " 'đẹp': 14,\n",
              " 'mượt': 15,\n",
              " 'nhanh': 16,\n",
              " 'sạc': 17,\n",
              " 'ngày': 18,\n",
              " 'ổn': 19,\n",
              " 'camera': 20,\n",
              " 'còn': 21,\n",
              " 'chụp': 22,\n",
              " 'thấy': 23,\n",
              " 'tầm': 24,\n",
              " 'xài': 25,\n",
              " 'hơn': 26,\n",
              " 'k': 27,\n",
              " 'về': 28,\n",
              " 'màn_hình': 29,\n",
              " 'trâu': 30,\n",
              " 'trong': 31,\n",
              " 'hơi': 32,\n",
              " 'đc': 33,\n",
              " 'khá': 34,\n",
              " 'sản_phẩm': 35,\n",
              " '2': 36,\n",
              " 'lỗi': 37,\n",
              " 'tay': 38,\n",
              " 'tháng': 39,\n",
              " 'sao': 40,\n",
              " 'hay': 41,\n",
              " 'nhân_viên': 42,\n",
              " 'mọi': 43,\n",
              " 'sử_dụng': 44,\n",
              " 'con': 45,\n",
              " 'hình': 46,\n",
              " 'sài': 47,\n",
              " 'hết': 48,\n",
              " 'vân': 49,\n",
              " 'nói_chung': 50,\n",
              " 'nhiệt_tình': 51,\n",
              " 'ngon': 52,\n",
              " 'thứ': 53,\n",
              " 'nóng': 54,\n",
              " 'lắm': 55,\n",
              " '3': 56,\n",
              " 'nghe': 57,\n",
              " 'nó': 58,\n",
              " 'loa': 59,\n",
              " 'luôn': 60,\n",
              " 'điện_thoại': 61,\n",
              " 'khác': 62,\n",
              " 'tệ': 63,\n",
              " 'lag': 64,\n",
              " 'ảnh': 65,\n",
              " 'người': 66,\n",
              " 'wifi': 67,\n",
              " 'xem': 68,\n",
              " 'mấy': 69,\n",
              " 'ở': 70,\n",
              " 'nào': 71,\n",
              " 'biết': 72,\n",
              " 'bạn': 73,\n",
              " 'lần': 74,\n",
              " 'dc': 75,\n",
              " 'cấu_hình': 76,\n",
              " 'đổi': 77,\n",
              " 'nói': 78,\n",
              " 'hàng': 79,\n",
              " 'sáng': 80,\n",
              " 'tôi': 81,\n",
              " 'đt': 82,\n",
              " 'đơ': 83,\n",
              " 'tuần': 84,\n",
              " 'đến': 85,\n",
              " 'tụt': 86,\n",
              " 'chạy': 87,\n",
              " 'em': 88,\n",
              " 'cảm_ứng': 89,\n",
              " '5': 90,\n",
              " 'lâu': 91,\n",
              " 'hài_lòng': 92,\n",
              " 'tgdd': 93,\n",
              " 'kém': 94,\n",
              " 'thất_vọng': 95,\n",
              " 'giật': 96,\n",
              " 'tuyệt_vời': 97,\n",
              " 'nhạy': 98,\n",
              " 'tiền': 99,\n",
              " 'bắt': 100,\n",
              " 'ạ': 101,\n",
              " 'thôi': 102,\n",
              " 'thích': 103,\n",
              " 'gọi': 104,\n",
              " 'gần': 105,\n",
              " 'lướt': 106,\n",
              " 'tạm': 107,\n",
              " 'thiết_kế': 108,\n",
              " 'nhất': 109,\n",
              " 'đi': 110,\n",
              " 'tư_vấn': 111,\n",
              " 'cao': 112,\n",
              " 'mở': 113,\n",
              " 'ai': 114,\n",
              " 'yếu': 115,\n",
              " 'một': 116,\n",
              " 'hôm': 117,\n",
              " 'cam': 118,\n",
              " 'sóng': 119,\n",
              " 'nét': 120,\n",
              " 'thật': 121,\n",
              " 'samsung': 122,\n",
              " 'liên_quân': 123,\n",
              " '4': 124,\n",
              " 'làm': 125,\n",
              " 'tắt': 126,\n",
              " 'chê': 127,\n",
              " 'ứng_dụng': 128,\n",
              " 'mất': 129,\n",
              " 'tiếng': 130,\n",
              " 'to': 131,\n",
              " 'giờ': 132,\n",
              " 'chậm': 133,\n",
              " 'mạng': 134,\n",
              " 'chán': 135,\n",
              " 'đánh_giá': 136,\n",
              " '10': 137,\n",
              " 'dòng': 138,\n",
              " 'đầy': 139,\n",
              " 'cực': 140,\n",
              " 'phục_vụ': 141,\n",
              " 'cập_nhật': 142,\n",
              " 'bằng': 143,\n",
              " 'oppo': 144,\n",
              " 'màu': 145,\n",
              " 'mạnh': 146,\n",
              " 'đáng': 147,\n",
              " 'chất_lượng': 148,\n",
              " 'muốn': 149,\n",
              " 'đầu': 150,\n",
              " 'e': 151,\n",
              " 'ngoài': 152,\n",
              " 'tới': 153,\n",
              " 'tuột': 154,\n",
              " 'cảm_thấy': 155,\n",
              " 'thể': 156,\n",
              " 'nghiệm': 157,\n",
              " 'vs': 158,\n",
              " 'bật': 159,\n",
              " 'nhận': 160,\n",
              " 'iphone': 161,\n",
              " 'bình_thường': 162,\n",
              " '4g': 163,\n",
              " 'rõ': 164,\n",
              " 'trải': 165,\n",
              " 'khỏi': 166,\n",
              " 'độ': 167,\n",
              " 'youtube': 168,\n",
              " 'mức': 169,\n",
              " 'ổn_định': 170,\n",
              " 'thêm': 171,\n",
              " 'nhìn': 172,\n",
              " 'chip': 173,\n",
              " 'nhạc': 174,\n",
              " 'hỏi': 175,\n",
              " 'đâu': 176,\n",
              " 'đủ': 177,\n",
              " 'pubg': 178,\n",
              " 'cầm': 179,\n",
              " 'thua': 180,\n",
              " 'nguồn': 181,\n",
              " 'cảm_biến': 182,\n",
              " 'bên': 183,\n",
              " 'nhỏ': 184,\n",
              " 'phim': 185,\n",
              " 'khoảng': 186,\n",
              " 'hãng': 187,\n",
              " 'siêu': 188,\n",
              " 'mong': 189,\n",
              " 'dù': 190,\n",
              " 'tối': 191,\n",
              " 'đêm': 192,\n",
              " 'nhẹ': 193,\n",
              " 'vài': 194,\n",
              " 'note': 195,\n",
              " 'sp': 196,\n",
              " 'ít': 197,\n",
              " 'tự': 198,\n",
              " 'xuống': 199,\n",
              " 'video': 200,\n",
              " 'bảo_hành': 201,\n",
              " 'tuyệt': 202,\n",
              " 'nhé': 203,\n",
              " 'điểm': 204,\n",
              " 'năm': 205,\n",
              " 'lấy': 206,\n",
              " 'việt': 207,\n",
              " 'tất': 208,\n",
              " 'bản': 209,\n",
              " 'mặt': 210,\n",
              " 'rẻ': 211,\n",
              " 'cách': 212,\n",
              " 'thời_gian': 213,\n",
              " 'nay': 214,\n",
              " 'mờ': 215,\n",
              " 'lưng': 216,\n",
              " 'xong': 217,\n",
              " 'ủng_hộ': 218,\n",
              " 'đúng': 219,\n",
              " 'vụ': 220,\n",
              " 'zalo': 221,\n",
              " 'xiaomi': 222,\n",
              " 'phần': 223,\n",
              " 'web': 224,\n",
              " 'fb': 225,\n",
              " 'nha': 226,\n",
              " 'liên_tục': 227,\n",
              " 'xấu': 228,\n",
              " '8': 229,\n",
              " '7': 230,\n",
              " 'bán': 231,\n",
              " 'mặc_dù': 232,\n",
              " 'số': 233,\n",
              " 'bỏ': 234,\n",
              " 'khuôn_mặt': 235,\n",
              " 'hiệu_năng': 236,\n",
              " '100': 237,\n",
              " 'hỗ_trợ': 238,\n",
              " 'sang': 239,\n",
              " 'báo': 240,\n",
              " 'chế_độ': 241,\n",
              " 'cảm_nhận': 242,\n",
              " 'sắc': 243,\n",
              " 'triệu': 244,\n",
              " 'dễ': 245,\n",
              " 'thử': 246,\n",
              " 'ram': 247,\n",
              " 'tác': 248,\n",
              " 'thế': 249,\n",
              " 'chiến': 250,\n",
              " 'lớn': 251,\n",
              " 'mau': 252,\n",
              " 'hao': 253,\n",
              " 'nặng': 254,\n",
              " 'vô': 255,\n",
              " 'chắc': 256,\n",
              " 'chung': 257,\n",
              " 'bao': 258,\n",
              " 'dt': 259,\n",
              " 'vsmart': 260,\n",
              " '20': 261,\n",
              " 'bấm': 262,\n",
              " 'quảng_cáo': 263,\n",
              " 'tgdđ': 264,\n",
              " 'max': 265,\n",
              " 'lâu_lâu': 266,\n",
              " 'giảm': 267,\n",
              " 'nhà': 268,\n",
              " 'màn': 269,\n",
              " 'hiện': 270,\n",
              " 'trừ': 271,\n",
              " 'khuyên': 272,\n",
              " 'khắc_phục': 273,\n",
              " 'sim': 274,\n",
              " 'xanh': 275,\n",
              " 'khởi_động': 276,\n",
              " 'đem': 277,\n",
              " 'j': 278,\n",
              " 'hiểu': 279,\n",
              " 'r': 280,\n",
              " 'đừng': 281,\n",
              " 'quay': 282,\n",
              " 'phần_mềm': 283,\n",
              " 'vivo': 284,\n",
              " 'hoặc': 285,\n",
              " 'ốp': 286,\n",
              " 'tí': 287,\n",
              " 'trung': 288,\n",
              " 'đứng': 289,\n",
              " 'vấn_đề': 290,\n",
              " 'tai_nghe': 291,\n",
              " 'di_động': 292,\n",
              " 'bảo': 293,\n",
              " 'nhận_diện': 294,\n",
              " 'pro': 295,\n",
              " 'trả': 296,\n",
              " 'kiểu': 297,\n",
              " 'âm_thanh': 298,\n",
              " 'nv': 299,\n",
              " 'bin': 300,\n",
              " 'nhu_cầu': 301,\n",
              " 'cũ': 302,\n",
              " 'ss': 303,\n",
              " 'phù_hợp': 304,\n",
              " 'thế_giới': 305,\n",
              " 'chút': 306,\n",
              " '6': 307,\n",
              " 'khóa': 308,\n",
              " 'hình_ảnh': 309,\n",
              " 'phân': 310,\n",
              " 'kết_nối': 311,\n",
              " 'thấp': 312,\n",
              " 'tải': 313,\n",
              " 'oke': 314,\n",
              " 'tiếc': 315,\n",
              " 'tội': 316,\n",
              " 'chu_đáo': 317,\n",
              " 'khúc': 318,\n",
              " 'khó_chịu': 319,\n",
              " 'chọn': 320,\n",
              " 'tặng': 321,\n",
              " 'nam': 322,\n",
              " 'hd': 323,\n",
              " 'mk': 324,\n",
              " 'tin': 325,\n",
              " 'buồn': 326,\n",
              " 'bàn': 327,\n",
              " 'đặc_biệt': 328,\n",
              " 'chức_năng': 329,\n",
              " 'hối_hận': 330,\n",
              " 'redmi': 331,\n",
              " 'tui': 332,\n",
              " 'sd': 333,\n",
              " 'đôi': 334,\n",
              " 'mang': 335,\n",
              " 'bền': 336,\n",
              " 'tính_năng': 337,\n",
              " 'cảm_giác': 338,\n",
              " 'tuy': 339,\n",
              " 'mn': 340,\n",
              " 'đồng_tiền': 341,\n",
              " 'cảm_ơn': 342,\n",
              " 'tuy_nhiên': 343,\n",
              " 'rè': 344,\n",
              " 'màng': 345,\n",
              " 'đen': 346,\n",
              " 'nhảy': 347,\n",
              " 'android': 348,\n",
              " 'cực_kì': 349,\n",
              " 'dán': 350,\n",
              " 'full': 351,\n",
              " 'đọc': 352,\n",
              " 'ae': 353,\n",
              " 'giống': 354,\n",
              " 'hiện_tượng': 355,\n",
              " 'hồi': 356,\n",
              " 'tình_trạng': 357,\n",
              " 'chính': 358,\n",
              " 'hai': 359,\n",
              " 'vui_vẻ': 360,\n",
              " 'thế_nào': 361,\n",
              " 'dung_lượng': 362,\n",
              " 'sang_trọng': 363,\n",
              " 'chấp_nhận': 364,\n",
              " 'phút': 365,\n",
              " 'viên': 366,\n",
              " 'facebook': 367,\n",
              " 'đòi_hỏi': 368,\n",
              " 'cuộc_gọi': 369,\n",
              " 'test': 370,\n",
              " 'khó': 371,\n",
              " 'coi': 372,\n",
              " 'cài': 373,\n",
              " 'ảo': 374,\n",
              " 'sai': 375,\n",
              " 'êm': 376,\n",
              " 'xa': 377,\n",
              " 'realme': 378,\n",
              " 'ưng': 379,\n",
              " 'kính': 380,\n",
              " 'a70': 381,\n",
              " 'đa_nhiệm': 382,\n",
              " 'khách_hàng': 383,\n",
              " 'a51': 384,\n",
              " 'rất': 385,\n",
              " 'cơ_bản': 386,\n",
              " 'chuyển': 387,\n",
              " 'loạn': 388,\n",
              " 'nghĩ': 389,\n",
              " 'chả': 390,\n",
              " 'nút': 391,\n",
              " 'v': 392,\n",
              " 'tự_động': 393,\n",
              " 'plus': 394,\n",
              " 'hiển_thị': 395,\n",
              " 'chíp': 396,\n",
              " 'viền': 397,\n",
              " 'ý': 398,\n",
              " '3g': 399,\n",
              " 'khỏe': 400,\n",
              " 'thoải_mái': 401,\n",
              " 'mắt': 402,\n",
              " 'điện_máy': 403,\n",
              " 'sam': 404,\n",
              " '15': 405,\n",
              " 'nổi': 406,\n",
              " 'lq': 407,\n",
              " 'kêu': 408,\n",
              " 'thường': 409,\n",
              " 'cửa_hàng': 410,\n",
              " 'hôm_nay': 411,\n",
              " 'đầu_tiên': 412,\n",
              " 'ấm': 413,\n",
              " '30': 414,\n",
              " 'chỗ': 415,\n",
              " 'toàn': 416,\n",
              " 'fps': 417,\n",
              " 'phím': 418,\n",
              " 'xíu': 419,\n",
              " 'gặp': 420,\n",
              " 'kia': 421,\n",
              " 'h': 422,\n",
              " 'chỉnh': 423,\n",
              " 'chạm': 424,\n",
              " 'thì': 425,\n",
              " 'thân_thiện': 426,\n",
              " 'khoẻ': 427,\n",
              " 'bác': 428,\n",
              " 'ăn': 429,\n",
              " 'dễ_thương': 430,\n",
              " 'cục': 431,\n",
              " 'được': 432,\n",
              " 'thi': 433,\n",
              " '5000': 434,\n",
              " 'nhỉ': 435,\n",
              " 'chữ': 436,\n",
              " 'bàn_phím': 437,\n",
              " 'hợp_lý': 438,\n",
              " 'xin': 439,\n",
              " 'chờ': 440,\n",
              " 'bây_giờ': 441,\n",
              " 'ưng_ý': 442,\n",
              " 'app': 443,\n",
              " 'riêng': 444,\n",
              " 'nhựa': 445,\n",
              " 'thiếu': 446,\n",
              " 'may': 447,\n",
              " '11': 448,\n",
              " 'chiều': 449,\n",
              " 'rung': 450,\n",
              " 'kiểm_tra': 451,\n",
              " 'điện': 452,\n",
              " 'đấy': 453,\n",
              " 'nửa': 454,\n",
              " 'thực': 455,\n",
              " 'nokia': 456,\n",
              " '12': 457,\n",
              " 'thỉnh_thoảng': 458,\n",
              " 'giúp': 459,\n",
              " 'sai_lầm': 460,\n",
              " 'tóm': 461,\n",
              " 'sung': 462,\n",
              " '9': 463,\n",
              " 'trung_bình': 464,\n",
              " 'lo': 465,\n",
              " 'face': 466,\n",
              " 'chịu': 467,\n",
              " 'google': 468,\n",
              " 'kinh_khủng': 469,\n",
              " 'gửi': 470,\n",
              " 'treo': 471,\n",
              " 'thao_tác': 472,\n",
              " 'ip': 473,\n",
              " 'bộ_nhớ': 474,\n",
              " 'gọn': 475,\n",
              " 'huawei': 476,\n",
              " 'thoại': 477,\n",
              " 'chị': 478,\n",
              " 'cài_đặt': 479,\n",
              " 'xứng_đáng': 480,\n",
              " 'thay': 481,\n",
              " 'tận_tình': 482,\n",
              " 'góc': 483,\n",
              " 's': 484,\n",
              " 'ng': 485,\n",
              " 'ms': 486,\n",
              " 'loại': 487,\n",
              " 'đối': 488,\n",
              " 'cắm': 489,\n",
              " 'xạc': 490,\n",
              " 'thoát': 491,\n",
              " 'trận': 492,\n",
              " 'màu_sắc': 493,\n",
              " 'tự_nhiên': 494,\n",
              " 'cx': 495,\n",
              " 'ad': 496,\n",
              " 'hợp': 497,\n",
              " 'minh': 498,\n",
              " 'lun': 499,\n",
              " 'ấy': 500,\n",
              " 'hẳn': 501,\n",
              " 'mong_đợi': 502,\n",
              " 'chẳng': 503,\n",
              " 'rộng': 504,\n",
              " 'định': 505,\n",
              " 'nhận_xét': 506,\n",
              " 'chống': 507,\n",
              " 'nhược_điểm': 508,\n",
              " 'vàng': 509,\n",
              " 'bao_giờ': 510,\n",
              " 'nước': 511,\n",
              " 'chuẩn': 512,\n",
              " 'củ': 513,\n",
              " 'kèm': 514,\n",
              " 'sợ': 515,\n",
              " 'nhìu': 516,\n",
              " 'lồi': 517,\n",
              " 'sớm': 518,\n",
              " 'bluetooth': 519,\n",
              " 'bt': 520,\n",
              " 'làm_sao': 521,\n",
              " '4000': 522,\n",
              " 'phát': 523,\n",
              " 'là': 524,\n",
              " 'sướng': 525,\n",
              " 'đợi': 526,\n",
              " 'call': 527,\n",
              " 'kh': 528,\n",
              " 'tiếp': 529,\n",
              " 'à': 530,\n",
              " '23': 531,\n",
              " 'túi_tiền': 532,\n",
              " 'thường_xuyên': 533,\n",
              " 'dung': 534,\n",
              " 'hoạt_động': 535,\n",
              " 'bù': 536,\n",
              " 'tiết_kiệm': 537,\n",
              " 'hề': 538,\n",
              " 'a': 539,\n",
              " 'vạch': 540,\n",
              " 'phân_giải': 541,\n",
              " 'anh': 542,\n",
              " 'trc': 543,\n",
              " 'ông': 544,\n",
              " 'mỏng': 545,\n",
              " 'nhiệt': 546,\n",
              " 'cân_nhắc': 547,\n",
              " 'hành': 548,\n",
              " 'phí': 549,\n",
              " 'tốn': 550,\n",
              " 'trắng': 551,\n",
              " 'thương_hiệu': 552,\n",
              " 'đánh': 553,\n",
              " 'khoá': 554,\n",
              " 'nhắn': 555,\n",
              " 'cực_kỳ': 556,\n",
              " 'bé': 557,\n",
              " 'văng': 558,\n",
              " 'choi': 559,\n",
              " 'phẩm': 560,\n",
              " 'đặt': 561,\n",
              " 'chi': 562,\n",
              " 'chập_chờn': 563,\n",
              " 'tương_đối': 564,\n",
              " 'ios': 565,\n",
              " 'lắc': 566,\n",
              " 'lựa_chọn': 567,\n",
              " 'đmx': 568,\n",
              " '9s': 569,\n",
              " 'kg': 570,\n",
              " 'hư': 571,\n",
              " 'ấn': 572,\n",
              " 'nguyên': 573,\n",
              " 'galaxy': 574,\n",
              " 'ý_định': 575,\n",
              " 'lâu_dài': 576,\n",
              " 'phê': 577,\n",
              " 'dk': 578,\n",
              " 'chs': 579,\n",
              " 'nản': 580,\n",
              " 'trang': 581,\n",
              " 'hộp': 582,\n",
              " 'tâm': 583,\n",
              " 'tốc_độ': 584,\n",
              " 'setting': 585,\n",
              " 'đồ_họa': 586,\n",
              " 'củng': 587,\n",
              " 'free': 588,\n",
              " 'chuông': 589,\n",
              " 'anh_em': 590,\n",
              " 'rưỡi': 591,\n",
              " 'm': 592,\n",
              " 'trâu_bò': 593,\n",
              " 'tính': 594,\n",
              " 'cường_lực': 595,\n",
              " 'thu': 596,\n",
              " 'có': 597,\n",
              " 'rớt': 598,\n",
              " 'nhắn_tin': 599,\n",
              " 'shop': 600,\n",
              " 'vỡ': 601,\n",
              " 'thái_độ': 602,\n",
              " 'cải_thiện': 603,\n",
              " 'hoài': 604,\n",
              " 'reno': 605,\n",
              " 'phản_hồi': 606,\n",
              " 'tối_ưu': 607,\n",
              " 'dmx': 608,\n",
              " 'mãi': 609,\n",
              " 'tận': 610,\n",
              " 'cùi': 611,\n",
              " 'giảm_giá': 612,\n",
              " 'sử': 613,\n",
              " 'ba': 614,\n",
              " 'fire': 615,\n",
              " 'a71': 616,\n",
              " 'bực_mình': 617,\n",
              " 'ngang': 618,\n",
              " 'miui': 619,\n",
              " 'thui': 620,\n",
              " 'bộ': 621,\n",
              " 'dành': 622,\n",
              " 'lời': 623,\n",
              " 'yên_tâm': 624,\n",
              " 'sản_xuất': 625,\n",
              " 'bát': 626,\n",
              " 'hệ': 627,\n",
              " 'yêu': 628,\n",
              " 'đáp_ứng': 629,\n",
              " 'ghê': 630,\n",
              " 'mik': 631,\n",
              " 'trời': 632,\n",
              " 'xử_lý': 633,\n",
              " 'khủng': 634,\n",
              " 'giao_diện': 635,\n",
              " 'chất': 636,\n",
              " 'j7': 637,\n",
              " 'giao': 638,\n",
              " 'bảo_mật': 639,\n",
              " 'giới_thiệu': 640,\n",
              " 'ứng': 641,\n",
              " 'nâng_cấp': 642,\n",
              " 'phiên_bản': 643,\n",
              " 'hoi': 644,\n",
              " 'sửa': 645,\n",
              " 'đk': 646,\n",
              " 'trở': 647,\n",
              " 'tai': 648,\n",
              " 'đời': 649,\n",
              " 'mà': 650,\n",
              " 'ám': 651,\n",
              " 'thông_báo': 652,\n",
              " 'trả_góp': 653,\n",
              " 'nhau': 654,\n",
              " 'mát': 655,\n",
              " 'xoá': 656,\n",
              " 'fan': 657,\n",
              " 'sánh': 658,\n",
              " 'ơi': 659,\n",
              " 'nhìn_chung': 660,\n",
              " 'một_số': 661,\n",
              " 'quay_phim': 662,\n",
              " 'gạo': 663,\n",
              " 'giải_trí': 664,\n",
              " 'a50s': 665,\n",
              " 'dịch_vụ': 666,\n",
              " 'sống': 667,\n",
              " 'kể': 668,\n",
              " 'đắt': 669,\n",
              " 'khoản': 670,\n",
              " 'vuốt': 671,\n",
              " 'mẹ': 672,\n",
              " 'hãy': 673,\n",
              " 'a50': 674,\n",
              " 'thanh': 675,\n",
              " 'joy': 676,\n",
              " 'quần': 677,\n",
              " 'live': 678,\n",
              " 'bình': 679,\n",
              " 'ưu_điểm': 680,\n",
              " 'âm': 681,\n",
              " 'dài': 682,\n",
              " 'ngon_lành': 683,\n",
              " 'sụt': 684,\n",
              " 'với': 685,\n",
              " 'ngầm': 686,\n",
              " 'cao_cấp': 687,\n",
              " 'ban_đầu': 688,\n",
              " 'update': 689,\n",
              " 'wf': 690,\n",
              " 'moi': 691,\n",
              " 'wed': 692,\n",
              " 't': 693,\n",
              " 'good': 694,\n",
              " 'đường': 695,\n",
              " 'chủ_yếu': 696,\n",
              " 'bình_luận': 697,\n",
              " 'mobile': 698,\n",
              " 'lite': 699,\n",
              " 'cuối': 700,\n",
              " 'công': 701,\n",
              " 'lung_tung': 702,\n",
              " 'đỉnh': 703,\n",
              " 'chai': 704,\n",
              " 'đồng': 705,\n",
              " 'lưu': 706,\n",
              " 'ý_kiến': 707,\n",
              " 'ntn': 708,\n",
              " 'lỗ': 709,\n",
              " 'nền': 710,\n",
              " 'tưởng': 711,\n",
              " 'nhấn': 712,\n",
              " 'wa': 713,\n",
              " 'và': 714,\n",
              " 'hoàn_hảo': 715,\n",
              " 'cũng': 716,\n",
              " 'kỹ': 717,\n",
              " 'chấm': 718,\n",
              " 'đồ': 719,\n",
              " 'này': 720,\n",
              " 'ánh_sáng': 721,\n",
              " 'xóa_phông': 722,\n",
              " 'online': 723,\n",
              " 'selfie': 724,\n",
              " '50': 725,\n",
              " 'hở': 726,\n",
              " 'snap': 727,\n",
              " 'hk': 728,\n",
              " 'sập': 729,\n",
              " 'mẫu_mã': 730,\n",
              " 'tìm': 731,\n",
              " 'xịn': 732,\n",
              " 'á': 733,\n",
              " 'hỏng': 734,\n",
              " 'che': 735,\n",
              " '8tr': 736,\n",
              " 'nhập': 737,\n",
              " '3tr': 738,\n",
              " 'miếng': 739,\n",
              " 'năng': 740,\n",
              " 'trầy': 741,\n",
              " 'giữ': 742,\n",
              " 'mic': 743,\n",
              " 'lác': 744,\n",
              " 'vn': 745,\n",
              " 'out': 746,\n",
              " '40': 747,\n",
              " 'rơi': 748,\n",
              " 'la': 749,\n",
              " 'đập': 750,\n",
              " 'kiểu_dáng': 751,\n",
              " 'nhòe': 752,\n",
              " 'thành': 753,\n",
              " '6tr': 754,\n",
              " 'phụ': 755,\n",
              " 'vãi': 756,\n",
              " 'ức_chế': 757,\n",
              " 'reset': 758,\n",
              " 'ngón': 759,\n",
              " 'rút': 760,\n",
              " '7plus': 761,\n",
              " '2h': 762,\n",
              " 'sac': 763,\n",
              " 'co': 764,\n",
              " 'công_nghệ': 765,\n",
              " 'f11': 766,\n",
              " 'buổi': 767,\n",
              " 'chắc_chắn': 768,\n",
              " '4500': 769,\n",
              " 'xước': 770,\n",
              " 'xuất_sắc': 771,\n",
              " 'trợ': 772,\n",
              " 'đèn': 773,\n",
              " 'apple': 774,\n",
              " 'ngoại_trừ': 775,\n",
              " 'tý': 776,\n",
              " 'thích_hợp': 777,\n",
              " 'sản': 778,\n",
              " '60': 779,\n",
              " 'lý': 780,\n",
              " 'máy_ảnh': 781,\n",
              " 'chục': 782,\n",
              " 'vọng': 783,\n",
              " 'kép': 784,\n",
              " 'lẽ': 785,\n",
              " 'load': 786,\n",
              " 'hợp_lí': 787,\n",
              " 'bổ': 788,\n",
              " 'tiện': 789,\n",
              " 'thông_số': 790,\n",
              " 'nhân': 791,\n",
              " 'kế': 792,\n",
              " '5tr': 793,\n",
              " 'y': 794,\n",
              " 'nữ': 795,\n",
              " 'khuyến_mãi': 796,\n",
              " '80': 797,\n",
              " 'tăng': 798,\n",
              " 'âm_lượng': 799,\n",
              " 'lại': 800,\n",
              " 'quyết_định': 801,\n",
              " 'biến': 802,\n",
              " 'bực': 803,\n",
              " 'việt_nam': 804,\n",
              " 'tư': 805,\n",
              " 'bất_tiện': 806,\n",
              " 'anh_chị': 807,\n",
              " 'đợt': 808,\n",
              " 'chi_tiết': 809,\n",
              " 'nhạt': 810,\n",
              " 'thi_thoảng': 811,\n",
              " 'ngắt': 812,\n",
              " '45': 813,\n",
              " '4tr': 814,\n",
              " 'hoàn_thiện': 815,\n",
              " 'vui': 816,\n",
              " '1h': 817,\n",
              " 'cạnh': 818,\n",
              " 'snapdragon': 819,\n",
              " 'dự_phòng': 820,\n",
              " 'giây': 821,\n",
              " 'thẻ_nhớ': 822,\n",
              " 'quà': 823,\n",
              " 'rùi': 824,\n",
              " 'tết': 825,\n",
              " 'mess': 826,\n",
              " 'nhưg': 827,\n",
              " 'ảnh_hưởng': 828,\n",
              " 'ghi_âm': 829,\n",
              " 'họ': 830,\n",
              " '4h': 831,\n",
              " 'sạt': 832,\n",
              " 'duy_nhất': 833,\n",
              " 'ma': 834,\n",
              " 'tiết': 835,\n",
              " 'đưa': 836,\n",
              " 'lổi': 837,\n",
              " 'lòng': 838,\n",
              " 'nhung': 839,\n",
              " 'quen': 840,\n",
              " 'trưa': 841,\n",
              " 'phụ_kiện': 842,\n",
              " 'nắm': 843,\n",
              " 'phàn_nàn': 844,\n",
              " 'tiếp_tục': 845,\n",
              " 'khung': 846,\n",
              " 'noi': 847,\n",
              " 'ch': 848,\n",
              " 'dính': 849,\n",
              " 'khiến': 850,\n",
              " 'một_chút': 851,\n",
              " 'ns': 852,\n",
              " 'suy_nghĩ': 853,\n",
              " 'fix': 854,\n",
              " 'hộ': 855,\n",
              " 'bắt_đầu': 856,\n",
              " 'khách': 857,\n",
              " 'messenger': 858,\n",
              " 'nhậy': 859,\n",
              " 'chăm_sóc': 860,\n",
              " 'xinh': 861,\n",
              " 'khựng': 862,\n",
              " 'kĩ': 863,\n",
              " 'lai': 864,\n",
              " 'nge': 865,\n",
              " 'tr': 866,\n",
              " 'của': 867,\n",
              " 'khả_năng': 868,\n",
              " 'kết': 869,\n",
              " 'liên': 870,\n",
              " 'androi': 871,\n",
              " 'z': 872,\n",
              " 'xoay': 873,\n",
              " '34': 874,\n",
              " 'va': 875,\n",
              " 'bắp': 876,\n",
              " 'xuất_hiện': 877,\n",
              " 'ngoại_hình': 878,\n",
              " 'cỡ': 879,\n",
              " 'đeo': 880,\n",
              " 'thời': 881,\n",
              " 'cung': 882,\n",
              " 'bữa': 883,\n",
              " 'phải': 884,\n",
              " 'bị': 885,\n",
              " 'tấm': 886,\n",
              " 'cận': 887,\n",
              " 'hướng_dẫn': 888,\n",
              " 'câu': 889,\n",
              " 'amoled': 890,\n",
              " 'đã': 891,\n",
              " 's20': 892,\n",
              " 'dày': 893,\n",
              " 'not': 894,\n",
              " 'rồi': 895,\n",
              " 'tên': 896,\n",
              " 'bóng': 897,\n",
              " 'nt': 898,\n",
              " 'okpin': 899,\n",
              " 'xứng': 900,\n",
              " 'ta': 901,\n",
              " 'mạnh_mẽ': 902,\n",
              " '5s': 903,\n",
              " 'rom': 904,\n",
              " 'giải_quyết': 905,\n",
              " 'hệ_thống': 906,\n",
              " 'đầy_đủ': 907,\n",
              " 'ấn_tượng': 908,\n",
              " 'quản_lý': 909,\n",
              " 'a9': 910,\n",
              " 'đỡ': 911,\n",
              " 'quốc': 912,\n",
              " 'quan_trọng': 913,\n",
              " 'đổi_mới': 914,\n",
              " 'đẹp_mắt': 915,\n",
              " 'hy_vọng': 916,\n",
              " 'mah': 917,\n",
              " 'tùy': 918,\n",
              " '98': 919,\n",
              " 'bài': 920,\n",
              " 'mượn': 921,\n",
              " 'd': 922,\n",
              " 'rõ_ràng': 923,\n",
              " 'tự_dưng': 924,\n",
              " 'vos': 925,\n",
              " 'đáng_giá': 926,\n",
              " 'lỡ': 927,\n",
              " 'y19': 928,\n",
              " 'ban_đêm': 929,\n",
              " 'zoom': 930,\n",
              " 'thay_đổi': 931,\n",
              " 'trãi': 932,\n",
              " 'gõ': 933,\n",
              " 'tùm_lum': 934,\n",
              " 'ghi': 935,\n",
              " 'bắn': 936,\n",
              " 'gái': 937,\n",
              " 'dám': 938,\n",
              " 'bao_nhiêu': 939,\n",
              " 'play': 940,\n",
              " 'vỏ': 941,\n",
              " 'khen': 942,\n",
              " 'cân': 943,\n",
              " 'lượng': 944,\n",
              " 'lúc': 945,\n",
              " 'cá_nhân': 946,\n",
              " 'dây': 947,\n",
              " 'văn': 948,\n",
              " 'chân': 949,\n",
              " '99': 950,\n",
              " 'phần_cứng': 951,\n",
              " 'vẻ': 952,\n",
              " 'chup': 953,\n",
              " '13': 954,\n",
              " 'quả': 955,\n",
              " 'vá': 956,\n",
              " 'mẫu': 957,\n",
              " 'chương_trình': 958,\n",
              " '2tr': 959,\n",
              " 'bắt_mắt': 960,\n",
              " 'quét': 961,\n",
              " 'thất': 962,\n",
              " '2f': 963,\n",
              " 'cái': 964,\n",
              " 'tin_tưởng': 965,\n",
              " 'suốt': 966,\n",
              " 'dữ_liệu': 967,\n",
              " 'vv': 968,\n",
              " 'hài': 969,\n",
              " 'gb': 970,\n",
              " 'gây': 971,\n",
              " 'châu': 972,\n",
              " 'cũg': 973,\n",
              " 'phía': 974,\n",
              " 'trả_lời': 975,\n",
              " 'vặt': 976,\n",
              " 'phát_hiện': 977,\n",
              " 'giá_thành': 978,\n",
              " 'thegioididong': 979,\n",
              " 'hướng': 980,\n",
              " 'túi': 981,\n",
              " 'thiết': 982,\n",
              " 'nhẹ_nhàng': 983,\n",
              " '8h': 984,\n",
              " 'lạ': 985,\n",
              " 'phone': 986,\n",
              " 'liền': 987,\n",
              " 'mh': 988,\n",
              " 'xe': 989,\n",
              " 'chính_sách': 990,\n",
              " 'ak': 991,\n",
              " '67': 992,\n",
              " '6gb': 993,\n",
              " 'đa': 994,\n",
              " 'c': 995,\n",
              " 'mắc': 996,\n",
              " '500k': 997,\n",
              " 'ơn': 998,\n",
              " 'vin': 999,\n",
              " ...}"
            ]
          },
          "execution_count": 320,
          "metadata": {},
          "output_type": "execute_result"
        }
      ],
      "source": [
        "model_embedding.key_to_index"
      ]
    },
    {
      "cell_type": "markdown",
      "metadata": {},
      "source": [
        "> Check to see how many words the longest sentence has"
      ]
    },
    {
      "cell_type": "code",
      "execution_count": 9,
      "metadata": {},
      "outputs": [
        {
          "name": "stdout",
          "output_type": "stream",
          "text": [
            "129\n",
            "130\n"
          ]
        }
      ],
      "source": [
        "max_sequence = max([len(seq) for seq in X_train])\n",
        "max_sequence_t=max ([len(seq) for seq in X_test ])\n",
        "print(max_sequence)\n",
        "print(max_sequence_t)"
      ]
    },
    {
      "cell_type": "markdown",
      "metadata": {},
      "source": [
        "> convert words to vector space and padding"
      ]
    },
    {
      "cell_type": "code",
      "execution_count": 13,
      "metadata": {
        "id": "IQ2nqk0mG-PX"
      },
      "outputs": [],
      "source": [
        "def comment_embedding(comment):\n",
        "    matrix = np.zeros((130, 128))\n",
        "    for i, word in enumerate(comment):\n",
        "            if word in model_embedding:\n",
        "                matrix[i] = model_embedding.get_vector(word)\n",
        "    return matrix"
      ]
    },
    {
      "cell_type": "markdown",
      "metadata": {},
      "source": [
        "> Execute Function"
      ]
    },
    {
      "cell_type": "code",
      "execution_count": 14,
      "metadata": {
        "colab": {
          "base_uri": "https://localhost:8080/"
        },
        "id": "iQMg25GTJS3m",
        "outputId": "1926c3a6-fc37-4dc1-97b3-044604276def"
      },
      "outputs": [
        {
          "name": "stderr",
          "output_type": "stream",
          "text": [
            "100%|██████████| 7786/7786 [00:01<00:00, 6873.19it/s]\n",
            "100%|██████████| 2224/2224 [00:00<00:00, 3036.26it/s]\n"
          ]
        }
      ],
      "source": [
        "train_data = []\n",
        "test_data =[]\n",
        "for x in tqdm(X_train):\n",
        "    train_data.append(comment_embedding(x))\n",
        "for y in tqdm(X_test): \n",
        "    test_data.append(comment_embedding(y))\n",
        "test_data=np.array(test_data)\n",
        "train_data=np.array(train_data)"
      ]
    },
    {
      "cell_type": "markdown",
      "metadata": {},
      "source": [
        "> Convert labels to numbers"
      ]
    },
    {
      "cell_type": "code",
      "execution_count": 15,
      "metadata": {},
      "outputs": [
        {
          "name": "stdout",
          "output_type": "stream",
          "text": [
            "[2 1 0]\n"
          ]
        }
      ],
      "source": [
        "label_encoder = LabelEncoder()\n",
        "# Mã hóa các nhãn văn bản thành các giá trị số\n",
        "y_train_encoded = label_encoder.fit_transform(y_train)\n",
        "y_test_encoded=label_encoder.fit_transform(y_test)\n",
        "print(y_train_encoded[0:3])"
      ]
    },
    {
      "cell_type": "markdown",
      "metadata": {},
      "source": [
        "> Convert label to one_hot_vector"
      ]
    },
    {
      "cell_type": "code",
      "execution_count": 16,
      "metadata": {},
      "outputs": [
        {
          "name": "stdout",
          "output_type": "stream",
          "text": [
            "[[0. 0. 1.]\n",
            " [0. 1. 0.]\n",
            " [1. 0. 0.]]\n"
          ]
        }
      ],
      "source": [
        "# Biểu diễn nhãn dưới dạng one-hot vector\n",
        "y_train_onehot = to_categorical(y_train_encoded)\n",
        "print(y_train_onehot[0:3])"
      ]
    },
    {
      "cell_type": "markdown",
      "metadata": {},
      "source": [
        "## 3.Built Model CNN"
      ]
    },
    {
      "cell_type": "markdown",
      "metadata": {},
      "source": [
        "### 3.1. Design configuration for CNN network"
      ]
    },
    {
      "cell_type": "code",
      "execution_count": 327,
      "metadata": {
        "id": "w33Kk46jJlJ5"
      },
      "outputs": [],
      "source": [
        "num_classes = 3\n",
        "filter_sizes = 3\n",
        "num_filters = 150\n",
        "epochs = 100\n",
        "dropout_rate = 0.3\n",
        "embedding_size=128\n",
        "num_lstm_unit=20"
      ]
    },
    {
      "cell_type": "markdown",
      "metadata": {},
      "source": [
        "> transform input properties"
      ]
    },
    {
      "cell_type": "code",
      "execution_count": 328,
      "metadata": {},
      "outputs": [],
      "source": [
        "x_train = train_data.reshape(train_data.shape[0], 131, embedding_size, 1).astype('float32')"
      ]
    },
    {
      "cell_type": "markdown",
      "metadata": {},
      "source": [
        "### 3.2. Model CNN"
      ]
    },
    {
      "cell_type": "code",
      "execution_count": 329,
      "metadata": {
        "colab": {
          "base_uri": "https://localhost:8080/"
        },
        "id": "UMrY5kBaypR4",
        "outputId": "5baf567d-6802-461b-e484-fe48d9eabff0"
      },
      "outputs": [
        {
          "name": "stderr",
          "output_type": "stream",
          "text": [
            "c:\\Users\\hdang\\.virtualenvs\\DM-xmUrTfoX\\Lib\\site-packages\\keras\\src\\layers\\convolutional\\base_conv.py:99: UserWarning: Do not pass an `input_shape`/`input_dim` argument to a layer. When using Sequential models, prefer using an `Input(shape)` object as the first layer in the model instead.\n",
            "  super().__init__(\n"
          ]
        }
      ],
      "source": [
        "# Define the model\n",
        "model = Sequential()\n",
        "# Add a convolutional layer\n",
        "model.add(Conv2D(num_filters, (filter_sizes, embedding_size), activation='relu',\n",
        "                 input_shape=(131, embedding_size, 1),name='convolution_layer'))\n",
        "model.add(BatchNormalization())\n",
        "model.add(MaxPooling2D(pool_size=(2, 1),strides=(2, 1),name='max_pooling'))\n",
        "model.add(TimeDistributed(Flatten()))\n",
        "model.add(Dropout(dropout_rate,name='dropout_layer1'))\n",
        "model.add(LSTM(num_lstm_unit, return_sequences=True,name='LSTM_layer1'))\n",
        "model.add(Dropout(dropout_rate,name='dropout_layer2'))\n",
        "model.add(LSTM(num_lstm_unit,name='LSTM_layer2'))\n",
        "model.add(Dense(3, activation='softmax'))"
      ]
    },
    {
      "cell_type": "markdown",
      "metadata": {},
      "source": [
        "### 3.3. Hyperparameter"
      ]
    },
    {
      "cell_type": "code",
      "execution_count": 330,
      "metadata": {},
      "outputs": [],
      "source": [
        "model.compile(loss='categorical_crossentropy',\n",
        "              optimizer='adam',\n",
        "              metrics=['accuracy'])"
      ]
    },
    {
      "cell_type": "markdown",
      "metadata": {},
      "source": [
        "### 3.4. Train"
      ]
    },
    {
      "cell_type": "markdown",
      "metadata": {},
      "source": [
        "> Monitor the trainning process to stop earlier"
      ]
    },
    {
      "cell_type": "code",
      "execution_count": 331,
      "metadata": {},
      "outputs": [],
      "source": [
        "# Khởi tạo callback EarlyStopping\n",
        "early_stopping_callback = EarlyStopping(\n",
        "    monitor='loss', \n",
        "    patience=10,          \n",
        "    restore_best_weights=True  \n",
        ")"
      ]
    },
    {
      "cell_type": "code",
      "execution_count": 332,
      "metadata": {
        "colab": {
          "base_uri": "https://localhost:8080/"
        },
        "id": "U1bK-7TFy-4t",
        "outputId": "d0e0aca6-b0af-4e73-af7c-88f8b8b5186a"
      },
      "outputs": [
        {
          "name": "stdout",
          "output_type": "stream",
          "text": [
            "Epoch 1/100\n",
            "\u001b[1m244/244\u001b[0m \u001b[32m━━━━━━━━━━━━━━━━━━━━\u001b[0m\u001b[37m\u001b[0m \u001b[1m25s\u001b[0m 76ms/step - accuracy: 0.4883 - loss: 0.9677\n",
            "Epoch 2/100\n",
            "\u001b[1m244/244\u001b[0m \u001b[32m━━━━━━━━━━━━━━━━━━━━\u001b[0m\u001b[37m\u001b[0m \u001b[1m19s\u001b[0m 76ms/step - accuracy: 0.5116 - loss: 0.9401\n",
            "Epoch 3/100\n",
            "\u001b[1m244/244\u001b[0m \u001b[32m━━━━━━━━━━━━━━━━━━━━\u001b[0m\u001b[37m\u001b[0m \u001b[1m18s\u001b[0m 72ms/step - accuracy: 0.5058 - loss: 0.9510\n",
            "Epoch 4/100\n",
            "\u001b[1m244/244\u001b[0m \u001b[32m━━━━━━━━━━━━━━━━━━━━\u001b[0m\u001b[37m\u001b[0m \u001b[1m17s\u001b[0m 70ms/step - accuracy: 0.5103 - loss: 0.9506\n",
            "Epoch 5/100\n",
            "\u001b[1m244/244\u001b[0m \u001b[32m━━━━━━━━━━━━━━━━━━━━\u001b[0m\u001b[37m\u001b[0m \u001b[1m18s\u001b[0m 72ms/step - accuracy: 0.5031 - loss: 0.9520\n",
            "Epoch 6/100\n",
            "\u001b[1m244/244\u001b[0m \u001b[32m━━━━━━━━━━━━━━━━━━━━\u001b[0m\u001b[37m\u001b[0m \u001b[1m17s\u001b[0m 70ms/step - accuracy: 0.5139 - loss: 0.9475\n",
            "Epoch 7/100\n",
            "\u001b[1m244/244\u001b[0m \u001b[32m━━━━━━━━━━━━━━━━━━━━\u001b[0m\u001b[37m\u001b[0m \u001b[1m18s\u001b[0m 72ms/step - accuracy: 0.5127 - loss: 0.9494\n",
            "Epoch 8/100\n",
            "\u001b[1m244/244\u001b[0m \u001b[32m━━━━━━━━━━━━━━━━━━━━\u001b[0m\u001b[37m\u001b[0m \u001b[1m17s\u001b[0m 70ms/step - accuracy: 0.5149 - loss: 0.9522\n",
            "Epoch 9/100\n",
            "\u001b[1m244/244\u001b[0m \u001b[32m━━━━━━━━━━━━━━━━━━━━\u001b[0m\u001b[37m\u001b[0m \u001b[1m18s\u001b[0m 73ms/step - accuracy: 0.5172 - loss: 0.9500\n",
            "Epoch 10/100\n",
            "\u001b[1m244/244\u001b[0m \u001b[32m━━━━━━━━━━━━━━━━━━━━\u001b[0m\u001b[37m\u001b[0m \u001b[1m18s\u001b[0m 73ms/step - accuracy: 0.5254 - loss: 0.9416\n",
            "Epoch 11/100\n",
            "\u001b[1m244/244\u001b[0m \u001b[32m━━━━━━━━━━━━━━━━━━━━\u001b[0m\u001b[37m\u001b[0m \u001b[1m18s\u001b[0m 74ms/step - accuracy: 0.5162 - loss: 0.9441\n",
            "Epoch 12/100\n",
            "\u001b[1m244/244\u001b[0m \u001b[32m━━━━━━━━━━━━━━━━━━━━\u001b[0m\u001b[37m\u001b[0m \u001b[1m17s\u001b[0m 68ms/step - accuracy: 0.5131 - loss: 0.9396\n",
            "Epoch 13/100\n",
            "\u001b[1m244/244\u001b[0m \u001b[32m━━━━━━━━━━━━━━━━━━━━\u001b[0m\u001b[37m\u001b[0m \u001b[1m16s\u001b[0m 64ms/step - accuracy: 0.5111 - loss: 0.9458\n",
            "Epoch 14/100\n",
            "\u001b[1m244/244\u001b[0m \u001b[32m━━━━━━━━━━━━━━━━━━━━\u001b[0m\u001b[37m\u001b[0m \u001b[1m16s\u001b[0m 64ms/step - accuracy: 0.5052 - loss: 0.9470\n",
            "Epoch 15/100\n",
            "\u001b[1m244/244\u001b[0m \u001b[32m━━━━━━━━━━━━━━━━━━━━\u001b[0m\u001b[37m\u001b[0m \u001b[1m16s\u001b[0m 65ms/step - accuracy: 0.5115 - loss: 0.9407\n",
            "Epoch 16/100\n",
            "\u001b[1m244/244\u001b[0m \u001b[32m━━━━━━━━━━━━━━━━━━━━\u001b[0m\u001b[37m\u001b[0m \u001b[1m16s\u001b[0m 64ms/step - accuracy: 0.5172 - loss: 0.9434\n",
            "Epoch 17/100\n",
            "\u001b[1m244/244\u001b[0m \u001b[32m━━━━━━━━━━━━━━━━━━━━\u001b[0m\u001b[37m\u001b[0m \u001b[1m16s\u001b[0m 66ms/step - accuracy: 0.5192 - loss: 0.9440\n",
            "Epoch 18/100\n",
            "\u001b[1m244/244\u001b[0m \u001b[32m━━━━━━━━━━━━━━━━━━━━\u001b[0m\u001b[37m\u001b[0m \u001b[1m16s\u001b[0m 65ms/step - accuracy: 0.5121 - loss: 0.9408\n",
            "Epoch 19/100\n",
            "\u001b[1m244/244\u001b[0m \u001b[32m━━━━━━━━━━━━━━━━━━━━\u001b[0m\u001b[37m\u001b[0m \u001b[1m15s\u001b[0m 63ms/step - accuracy: 0.5171 - loss: 0.9464\n",
            "Epoch 20/100\n",
            "\u001b[1m244/244\u001b[0m \u001b[32m━━━━━━━━━━━━━━━━━━━━\u001b[0m\u001b[37m\u001b[0m \u001b[1m15s\u001b[0m 62ms/step - accuracy: 0.5247 - loss: 0.9448\n",
            "Epoch 21/100\n",
            "\u001b[1m244/244\u001b[0m \u001b[32m━━━━━━━━━━━━━━━━━━━━\u001b[0m\u001b[37m\u001b[0m \u001b[1m15s\u001b[0m 63ms/step - accuracy: 0.5164 - loss: 0.9432\n",
            "Epoch 22/100\n",
            "\u001b[1m244/244\u001b[0m \u001b[32m━━━━━━━━━━━━━━━━━━━━\u001b[0m\u001b[37m\u001b[0m \u001b[1m16s\u001b[0m 66ms/step - accuracy: 0.5354 - loss: 0.9282\n",
            "Epoch 23/100\n",
            "\u001b[1m244/244\u001b[0m \u001b[32m━━━━━━━━━━━━━━━━━━━━\u001b[0m\u001b[37m\u001b[0m \u001b[1m19s\u001b[0m 79ms/step - accuracy: 0.5218 - loss: 0.9195\n",
            "Epoch 24/100\n",
            "\u001b[1m244/244\u001b[0m \u001b[32m━━━━━━━━━━━━━━━━━━━━\u001b[0m\u001b[37m\u001b[0m \u001b[1m20s\u001b[0m 78ms/step - accuracy: 0.5082 - loss: 0.8952\n",
            "Epoch 25/100\n",
            "\u001b[1m244/244\u001b[0m \u001b[32m━━━━━━━━━━━━━━━━━━━━\u001b[0m\u001b[37m\u001b[0m \u001b[1m19s\u001b[0m 79ms/step - accuracy: 0.4989 - loss: 0.9023\n",
            "Epoch 26/100\n",
            "\u001b[1m244/244\u001b[0m \u001b[32m━━━━━━━━━━━━━━━━━━━━\u001b[0m\u001b[37m\u001b[0m \u001b[1m19s\u001b[0m 80ms/step - accuracy: 0.5066 - loss: 0.9353\n",
            "Epoch 27/100\n",
            "\u001b[1m244/244\u001b[0m \u001b[32m━━━━━━━━━━━━━━━━━━━━\u001b[0m\u001b[37m\u001b[0m \u001b[1m19s\u001b[0m 76ms/step - accuracy: 0.5210 - loss: 0.8941\n",
            "Epoch 28/100\n",
            "\u001b[1m244/244\u001b[0m \u001b[32m━━━━━━━━━━━━━━━━━━━━\u001b[0m\u001b[37m\u001b[0m \u001b[1m17s\u001b[0m 68ms/step - accuracy: 0.6835 - loss: 0.8044\n",
            "Epoch 29/100\n",
            "\u001b[1m244/244\u001b[0m \u001b[32m━━━━━━━━━━━━━━━━━━━━\u001b[0m\u001b[37m\u001b[0m \u001b[1m17s\u001b[0m 69ms/step - accuracy: 0.7295 - loss: 0.7266\n",
            "Epoch 30/100\n",
            "\u001b[1m244/244\u001b[0m \u001b[32m━━━━━━━━━━━━━━━━━━━━\u001b[0m\u001b[37m\u001b[0m \u001b[1m16s\u001b[0m 67ms/step - accuracy: 0.7166 - loss: 0.7333\n",
            "Epoch 31/100\n",
            "\u001b[1m244/244\u001b[0m \u001b[32m━━━━━━━━━━━━━━━━━━━━\u001b[0m\u001b[37m\u001b[0m \u001b[1m17s\u001b[0m 69ms/step - accuracy: 0.7696 - loss: 0.6308\n",
            "Epoch 32/100\n",
            "\u001b[1m244/244\u001b[0m \u001b[32m━━━━━━━━━━━━━━━━━━━━\u001b[0m\u001b[37m\u001b[0m \u001b[1m17s\u001b[0m 68ms/step - accuracy: 0.7702 - loss: 0.6154\n",
            "Epoch 33/100\n",
            "\u001b[1m244/244\u001b[0m \u001b[32m━━━━━━━━━━━━━━━━━━━━\u001b[0m\u001b[37m\u001b[0m \u001b[1m16s\u001b[0m 65ms/step - accuracy: 0.7788 - loss: 0.5961\n",
            "Epoch 34/100\n",
            "\u001b[1m244/244\u001b[0m \u001b[32m━━━━━━━━━━━━━━━━━━━━\u001b[0m\u001b[37m\u001b[0m \u001b[1m15s\u001b[0m 63ms/step - accuracy: 0.8001 - loss: 0.5457\n",
            "Epoch 35/100\n",
            "\u001b[1m244/244\u001b[0m \u001b[32m━━━━━━━━━━━━━━━━━━━━\u001b[0m\u001b[37m\u001b[0m \u001b[1m16s\u001b[0m 67ms/step - accuracy: 0.7949 - loss: 0.5481\n",
            "Epoch 36/100\n",
            "\u001b[1m244/244\u001b[0m \u001b[32m━━━━━━━━━━━━━━━━━━━━\u001b[0m\u001b[37m\u001b[0m \u001b[1m18s\u001b[0m 74ms/step - accuracy: 0.8011 - loss: 0.5319\n",
            "Epoch 37/100\n",
            "\u001b[1m244/244\u001b[0m \u001b[32m━━━━━━━━━━━━━━━━━━━━\u001b[0m\u001b[37m\u001b[0m \u001b[1m19s\u001b[0m 76ms/step - accuracy: 0.8106 - loss: 0.5039\n",
            "Epoch 38/100\n",
            "\u001b[1m244/244\u001b[0m \u001b[32m━━━━━━━━━━━━━━━━━━━━\u001b[0m\u001b[37m\u001b[0m \u001b[1m19s\u001b[0m 78ms/step - accuracy: 0.8128 - loss: 0.5086\n",
            "Epoch 39/100\n",
            "\u001b[1m244/244\u001b[0m \u001b[32m━━━━━━━━━━━━━━━━━━━━\u001b[0m\u001b[37m\u001b[0m \u001b[1m18s\u001b[0m 75ms/step - accuracy: 0.8123 - loss: 0.5011\n",
            "Epoch 40/100\n",
            "\u001b[1m244/244\u001b[0m \u001b[32m━━━━━━━━━━━━━━━━━━━━\u001b[0m\u001b[37m\u001b[0m \u001b[1m19s\u001b[0m 76ms/step - accuracy: 0.8197 - loss: 0.4789\n",
            "Epoch 41/100\n",
            "\u001b[1m244/244\u001b[0m \u001b[32m━━━━━━━━━━━━━━━━━━━━\u001b[0m\u001b[37m\u001b[0m \u001b[1m19s\u001b[0m 77ms/step - accuracy: 0.8204 - loss: 0.4738\n",
            "Epoch 42/100\n",
            "\u001b[1m244/244\u001b[0m \u001b[32m━━━━━━━━━━━━━━━━━━━━\u001b[0m\u001b[37m\u001b[0m \u001b[1m18s\u001b[0m 75ms/step - accuracy: 0.8198 - loss: 0.4733\n",
            "Epoch 43/100\n",
            "\u001b[1m244/244\u001b[0m \u001b[32m━━━━━━━━━━━━━━━━━━━━\u001b[0m\u001b[37m\u001b[0m \u001b[1m19s\u001b[0m 77ms/step - accuracy: 0.8295 - loss: 0.4536\n",
            "Epoch 44/100\n",
            "\u001b[1m244/244\u001b[0m \u001b[32m━━━━━━━━━━━━━━━━━━━━\u001b[0m\u001b[37m\u001b[0m \u001b[1m18s\u001b[0m 72ms/step - accuracy: 0.8263 - loss: 0.4472\n",
            "Epoch 45/100\n",
            "\u001b[1m244/244\u001b[0m \u001b[32m━━━━━━━━━━━━━━━━━━━━\u001b[0m\u001b[37m\u001b[0m \u001b[1m16s\u001b[0m 67ms/step - accuracy: 0.8260 - loss: 0.4524\n",
            "Epoch 46/100\n",
            "\u001b[1m244/244\u001b[0m \u001b[32m━━━━━━━━━━━━━━━━━━━━\u001b[0m\u001b[37m\u001b[0m \u001b[1m17s\u001b[0m 69ms/step - accuracy: 0.8231 - loss: 0.4604\n",
            "Epoch 47/100\n",
            "\u001b[1m244/244\u001b[0m \u001b[32m━━━━━━━━━━━━━━━━━━━━\u001b[0m\u001b[37m\u001b[0m \u001b[1m18s\u001b[0m 75ms/step - accuracy: 0.8269 - loss: 0.4502\n",
            "Epoch 48/100\n",
            "\u001b[1m244/244\u001b[0m \u001b[32m━━━━━━━━━━━━━━━━━━━━\u001b[0m\u001b[37m\u001b[0m \u001b[1m16s\u001b[0m 65ms/step - accuracy: 0.8348 - loss: 0.4323\n",
            "Epoch 49/100\n",
            "\u001b[1m244/244\u001b[0m \u001b[32m━━━━━━━━━━━━━━━━━━━━\u001b[0m\u001b[37m\u001b[0m \u001b[1m14s\u001b[0m 57ms/step - accuracy: 0.8376 - loss: 0.4296\n",
            "Epoch 50/100\n",
            "\u001b[1m244/244\u001b[0m \u001b[32m━━━━━━━━━━━━━━━━━━━━\u001b[0m\u001b[37m\u001b[0m \u001b[1m14s\u001b[0m 56ms/step - accuracy: 0.8324 - loss: 0.4323\n",
            "Epoch 51/100\n",
            "\u001b[1m244/244\u001b[0m \u001b[32m━━━━━━━━━━━━━━━━━━━━\u001b[0m\u001b[37m\u001b[0m \u001b[1m14s\u001b[0m 57ms/step - accuracy: 0.8295 - loss: 0.4289\n",
            "Epoch 52/100\n",
            "\u001b[1m244/244\u001b[0m \u001b[32m━━━━━━━━━━━━━━━━━━━━\u001b[0m\u001b[37m\u001b[0m \u001b[1m14s\u001b[0m 57ms/step - accuracy: 0.8235 - loss: 0.4385\n",
            "Epoch 53/100\n",
            "\u001b[1m244/244\u001b[0m \u001b[32m━━━━━━━━━━━━━━━━━━━━\u001b[0m\u001b[37m\u001b[0m \u001b[1m14s\u001b[0m 58ms/step - accuracy: 0.8284 - loss: 0.4361\n",
            "Epoch 54/100\n",
            "\u001b[1m244/244\u001b[0m \u001b[32m━━━━━━━━━━━━━━━━━━━━\u001b[0m\u001b[37m\u001b[0m \u001b[1m14s\u001b[0m 57ms/step - accuracy: 0.8353 - loss: 0.4075\n",
            "Epoch 55/100\n",
            "\u001b[1m244/244\u001b[0m \u001b[32m━━━━━━━━━━━━━━━━━━━━\u001b[0m\u001b[37m\u001b[0m \u001b[1m14s\u001b[0m 57ms/step - accuracy: 0.8375 - loss: 0.4133\n",
            "Epoch 56/100\n",
            "\u001b[1m244/244\u001b[0m \u001b[32m━━━━━━━━━━━━━━━━━━━━\u001b[0m\u001b[37m\u001b[0m \u001b[1m14s\u001b[0m 56ms/step - accuracy: 0.8352 - loss: 0.4204\n",
            "Epoch 57/100\n",
            "\u001b[1m244/244\u001b[0m \u001b[32m━━━━━━━━━━━━━━━━━━━━\u001b[0m\u001b[37m\u001b[0m \u001b[1m14s\u001b[0m 58ms/step - accuracy: 0.8289 - loss: 0.4378\n",
            "Epoch 58/100\n",
            "\u001b[1m244/244\u001b[0m \u001b[32m━━━━━━━━━━━━━━━━━━━━\u001b[0m\u001b[37m\u001b[0m \u001b[1m14s\u001b[0m 57ms/step - accuracy: 0.8334 - loss: 0.4142\n",
            "Epoch 59/100\n",
            "\u001b[1m244/244\u001b[0m \u001b[32m━━━━━━━━━━━━━━━━━━━━\u001b[0m\u001b[37m\u001b[0m \u001b[1m14s\u001b[0m 56ms/step - accuracy: 0.8341 - loss: 0.4120\n",
            "Epoch 60/100\n",
            "\u001b[1m244/244\u001b[0m \u001b[32m━━━━━━━━━━━━━━━━━━━━\u001b[0m\u001b[37m\u001b[0m \u001b[1m14s\u001b[0m 56ms/step - accuracy: 0.8445 - loss: 0.4067\n",
            "Epoch 61/100\n",
            "\u001b[1m244/244\u001b[0m \u001b[32m━━━━━━━━━━━━━━━━━━━━\u001b[0m\u001b[37m\u001b[0m \u001b[1m14s\u001b[0m 56ms/step - accuracy: 0.8372 - loss: 0.4011\n",
            "Epoch 62/100\n",
            "\u001b[1m244/244\u001b[0m \u001b[32m━━━━━━━━━━━━━━━━━━━━\u001b[0m\u001b[37m\u001b[0m \u001b[1m14s\u001b[0m 58ms/step - accuracy: 0.8389 - loss: 0.3980\n",
            "Epoch 63/100\n",
            "\u001b[1m244/244\u001b[0m \u001b[32m━━━━━━━━━━━━━━━━━━━━\u001b[0m\u001b[37m\u001b[0m \u001b[1m14s\u001b[0m 58ms/step - accuracy: 0.8376 - loss: 0.4077\n",
            "Epoch 64/100\n",
            "\u001b[1m244/244\u001b[0m \u001b[32m━━━━━━━━━━━━━━━━━━━━\u001b[0m\u001b[37m\u001b[0m \u001b[1m14s\u001b[0m 56ms/step - accuracy: 0.8541 - loss: 0.3845\n",
            "Epoch 65/100\n",
            "\u001b[1m244/244\u001b[0m \u001b[32m━━━━━━━━━━━━━━━━━━━━\u001b[0m\u001b[37m\u001b[0m \u001b[1m14s\u001b[0m 58ms/step - accuracy: 0.8464 - loss: 0.3873\n",
            "Epoch 66/100\n",
            "\u001b[1m244/244\u001b[0m \u001b[32m━━━━━━━━━━━━━━━━━━━━\u001b[0m\u001b[37m\u001b[0m \u001b[1m14s\u001b[0m 58ms/step - accuracy: 0.8413 - loss: 0.3831\n",
            "Epoch 67/100\n",
            "\u001b[1m244/244\u001b[0m \u001b[32m━━━━━━━━━━━━━━━━━━━━\u001b[0m\u001b[37m\u001b[0m \u001b[1m14s\u001b[0m 59ms/step - accuracy: 0.8274 - loss: 0.4295\n",
            "Epoch 68/100\n",
            "\u001b[1m244/244\u001b[0m \u001b[32m━━━━━━━━━━━━━━━━━━━━\u001b[0m\u001b[37m\u001b[0m \u001b[1m14s\u001b[0m 58ms/step - accuracy: 0.8486 - loss: 0.3822\n",
            "Epoch 69/100\n",
            "\u001b[1m244/244\u001b[0m \u001b[32m━━━━━━━━━━━━━━━━━━━━\u001b[0m\u001b[37m\u001b[0m \u001b[1m15s\u001b[0m 61ms/step - accuracy: 0.8520 - loss: 0.3651\n",
            "Epoch 70/100\n",
            "\u001b[1m244/244\u001b[0m \u001b[32m━━━━━━━━━━━━━━━━━━━━\u001b[0m\u001b[37m\u001b[0m \u001b[1m16s\u001b[0m 67ms/step - accuracy: 0.8446 - loss: 0.3858\n",
            "Epoch 71/100\n",
            "\u001b[1m244/244\u001b[0m \u001b[32m━━━━━━━━━━━━━━━━━━━━\u001b[0m\u001b[37m\u001b[0m \u001b[1m32s\u001b[0m 130ms/step - accuracy: 0.8451 - loss: 0.3840\n",
            "Epoch 72/100\n",
            "\u001b[1m244/244\u001b[0m \u001b[32m━━━━━━━━━━━━━━━━━━━━\u001b[0m\u001b[37m\u001b[0m \u001b[1m29s\u001b[0m 112ms/step - accuracy: 0.8438 - loss: 0.3882\n",
            "Epoch 73/100\n",
            "\u001b[1m244/244\u001b[0m \u001b[32m━━━━━━━━━━━━━━━━━━━━\u001b[0m\u001b[37m\u001b[0m \u001b[1m23s\u001b[0m 93ms/step - accuracy: 0.8500 - loss: 0.3769\n",
            "Epoch 74/100\n",
            "\u001b[1m244/244\u001b[0m \u001b[32m━━━━━━━━━━━━━━━━━━━━\u001b[0m\u001b[37m\u001b[0m \u001b[1m17s\u001b[0m 70ms/step - accuracy: 0.8449 - loss: 0.3758\n",
            "Epoch 75/100\n",
            "\u001b[1m244/244\u001b[0m \u001b[32m━━━━━━━━━━━━━━━━━━━━\u001b[0m\u001b[37m\u001b[0m \u001b[1m16s\u001b[0m 67ms/step - accuracy: 0.8524 - loss: 0.3716\n",
            "Epoch 76/100\n",
            "\u001b[1m244/244\u001b[0m \u001b[32m━━━━━━━━━━━━━━━━━━━━\u001b[0m\u001b[37m\u001b[0m \u001b[1m16s\u001b[0m 66ms/step - accuracy: 0.8422 - loss: 0.3860\n",
            "Epoch 77/100\n",
            "\u001b[1m244/244\u001b[0m \u001b[32m━━━━━━━━━━━━━━━━━━━━\u001b[0m\u001b[37m\u001b[0m \u001b[1m17s\u001b[0m 71ms/step - accuracy: 0.8490 - loss: 0.3740\n",
            "Epoch 78/100\n",
            "\u001b[1m244/244\u001b[0m \u001b[32m━━━━━━━━━━━━━━━━━━━━\u001b[0m\u001b[37m\u001b[0m \u001b[1m16s\u001b[0m 64ms/step - accuracy: 0.8443 - loss: 0.3834\n",
            "Epoch 79/100\n",
            "\u001b[1m244/244\u001b[0m \u001b[32m━━━━━━━━━━━━━━━━━━━━\u001b[0m\u001b[37m\u001b[0m \u001b[1m15s\u001b[0m 62ms/step - accuracy: 0.8505 - loss: 0.3808\n",
            "Epoch 80/100\n",
            "\u001b[1m244/244\u001b[0m \u001b[32m━━━━━━━━━━━━━━━━━━━━\u001b[0m\u001b[37m\u001b[0m \u001b[1m14s\u001b[0m 57ms/step - accuracy: 0.8587 - loss: 0.3576\n",
            "Epoch 81/100\n",
            "\u001b[1m244/244\u001b[0m \u001b[32m━━━━━━━━━━━━━━━━━━━━\u001b[0m\u001b[37m\u001b[0m \u001b[1m15s\u001b[0m 60ms/step - accuracy: 0.8531 - loss: 0.3658\n",
            "Epoch 82/100\n",
            "\u001b[1m244/244\u001b[0m \u001b[32m━━━━━━━━━━━━━━━━━━━━\u001b[0m\u001b[37m\u001b[0m \u001b[1m17s\u001b[0m 71ms/step - accuracy: 0.8537 - loss: 0.3645\n",
            "Epoch 83/100\n",
            "\u001b[1m244/244\u001b[0m \u001b[32m━━━━━━━━━━━━━━━━━━━━\u001b[0m\u001b[37m\u001b[0m \u001b[1m18s\u001b[0m 75ms/step - accuracy: 0.8529 - loss: 0.3603\n",
            "Epoch 84/100\n",
            "\u001b[1m244/244\u001b[0m \u001b[32m━━━━━━━━━━━━━━━━━━━━\u001b[0m\u001b[37m\u001b[0m \u001b[1m17s\u001b[0m 69ms/step - accuracy: 0.8496 - loss: 0.3620\n",
            "Epoch 85/100\n",
            "\u001b[1m244/244\u001b[0m \u001b[32m━━━━━━━━━━━━━━━━━━━━\u001b[0m\u001b[37m\u001b[0m \u001b[1m18s\u001b[0m 73ms/step - accuracy: 0.8494 - loss: 0.3677\n",
            "Epoch 86/100\n",
            "\u001b[1m244/244\u001b[0m \u001b[32m━━━━━━━━━━━━━━━━━━━━\u001b[0m\u001b[37m\u001b[0m \u001b[1m15s\u001b[0m 61ms/step - accuracy: 0.8595 - loss: 0.3413\n",
            "Epoch 87/100\n",
            "\u001b[1m244/244\u001b[0m \u001b[32m━━━━━━━━━━━━━━━━━━━━\u001b[0m\u001b[37m\u001b[0m \u001b[1m16s\u001b[0m 67ms/step - accuracy: 0.8590 - loss: 0.3515\n",
            "Epoch 88/100\n",
            "\u001b[1m244/244\u001b[0m \u001b[32m━━━━━━━━━━━━━━━━━━━━\u001b[0m\u001b[37m\u001b[0m \u001b[1m16s\u001b[0m 66ms/step - accuracy: 0.8639 - loss: 0.3440\n",
            "Epoch 89/100\n",
            "\u001b[1m244/244\u001b[0m \u001b[32m━━━━━━━━━━━━━━━━━━━━\u001b[0m\u001b[37m\u001b[0m \u001b[1m18s\u001b[0m 74ms/step - accuracy: 0.8640 - loss: 0.3341\n",
            "Epoch 90/100\n",
            "\u001b[1m244/244\u001b[0m \u001b[32m━━━━━━━━━━━━━━━━━━━━\u001b[0m\u001b[37m\u001b[0m \u001b[1m17s\u001b[0m 69ms/step - accuracy: 0.8618 - loss: 0.3474\n",
            "Epoch 91/100\n",
            "\u001b[1m244/244\u001b[0m \u001b[32m━━━━━━━━━━━━━━━━━━━━\u001b[0m\u001b[37m\u001b[0m \u001b[1m17s\u001b[0m 71ms/step - accuracy: 0.8590 - loss: 0.3347\n",
            "Epoch 92/100\n",
            "\u001b[1m244/244\u001b[0m \u001b[32m━━━━━━━━━━━━━━━━━━━━\u001b[0m\u001b[37m\u001b[0m \u001b[1m17s\u001b[0m 68ms/step - accuracy: 0.8611 - loss: 0.3454\n",
            "Epoch 93/100\n",
            "\u001b[1m244/244\u001b[0m \u001b[32m━━━━━━━━━━━━━━━━━━━━\u001b[0m\u001b[37m\u001b[0m \u001b[1m16s\u001b[0m 67ms/step - accuracy: 0.8694 - loss: 0.3425\n",
            "Epoch 94/100\n",
            "\u001b[1m244/244\u001b[0m \u001b[32m━━━━━━━━━━━━━━━━━━━━\u001b[0m\u001b[37m\u001b[0m \u001b[1m16s\u001b[0m 67ms/step - accuracy: 0.8645 - loss: 0.3463\n",
            "Epoch 95/100\n",
            "\u001b[1m244/244\u001b[0m \u001b[32m━━━━━━━━━━━━━━━━━━━━\u001b[0m\u001b[37m\u001b[0m \u001b[1m18s\u001b[0m 74ms/step - accuracy: 0.8624 - loss: 0.3559\n",
            "Epoch 96/100\n",
            "\u001b[1m244/244\u001b[0m \u001b[32m━━━━━━━━━━━━━━━━━━━━\u001b[0m\u001b[37m\u001b[0m \u001b[1m18s\u001b[0m 74ms/step - accuracy: 0.8727 - loss: 0.3310\n",
            "Epoch 97/100\n",
            "\u001b[1m244/244\u001b[0m \u001b[32m━━━━━━━━━━━━━━━━━━━━\u001b[0m\u001b[37m\u001b[0m \u001b[1m17s\u001b[0m 68ms/step - accuracy: 0.8569 - loss: 0.3530\n",
            "Epoch 98/100\n",
            "\u001b[1m244/244\u001b[0m \u001b[32m━━━━━━━━━━━━━━━━━━━━\u001b[0m\u001b[37m\u001b[0m \u001b[1m18s\u001b[0m 74ms/step - accuracy: 0.8664 - loss: 0.3414\n",
            "Epoch 99/100\n",
            "\u001b[1m244/244\u001b[0m \u001b[32m━━━━━━━━━━━━━━━━━━━━\u001b[0m\u001b[37m\u001b[0m \u001b[1m21s\u001b[0m 85ms/step - accuracy: 0.8697 - loss: 0.3260\n",
            "Epoch 100/100\n",
            "\u001b[1m244/244\u001b[0m \u001b[32m━━━━━━━━━━━━━━━━━━━━\u001b[0m\u001b[37m\u001b[0m \u001b[1m19s\u001b[0m 75ms/step - accuracy: 0.8679 - loss: 0.3355\n"
          ]
        },
        {
          "data": {
            "text/plain": [
              "<keras.src.callbacks.history.History at 0x2046323e0d0>"
            ]
          },
          "execution_count": 332,
          "metadata": {},
          "output_type": "execute_result"
        }
      ],
      "source": [
        "model.fit(\n",
        "    x_train,\n",
        "    y_train_onehot,\n",
        "    verbose=1,\n",
        "    epochs=epochs,\n",
        "    callbacks=[early_stopping_callback] \n",
        ")"
      ]
    },
    {
      "cell_type": "markdown",
      "metadata": {},
      "source": [
        ">Network Architecture"
      ]
    },
    {
      "cell_type": "code",
      "execution_count": 333,
      "metadata": {},
      "outputs": [
        {
          "data": {
            "text/html": [
              "<pre style=\"white-space:pre;overflow-x:auto;line-height:normal;font-family:Menlo,'DejaVu Sans Mono',consolas,'Courier New',monospace\"><span style=\"font-weight: bold\">Model: \"sequential_12\"</span>\n",
              "</pre>\n"
            ],
            "text/plain": [
              "\u001b[1mModel: \"sequential_12\"\u001b[0m\n"
            ]
          },
          "metadata": {},
          "output_type": "display_data"
        },
        {
          "data": {
            "text/html": [
              "<pre style=\"white-space:pre;overflow-x:auto;line-height:normal;font-family:Menlo,'DejaVu Sans Mono',consolas,'Courier New',monospace\">┏━━━━━━━━━━━━━━━━━━━━━━━━━━━━━━━━━┳━━━━━━━━━━━━━━━━━━━━━━━━┳━━━━━━━━━━━━━━━┓\n",
              "┃<span style=\"font-weight: bold\"> Layer (type)                    </span>┃<span style=\"font-weight: bold\"> Output Shape           </span>┃<span style=\"font-weight: bold\">       Param # </span>┃\n",
              "┡━━━━━━━━━━━━━━━━━━━━━━━━━━━━━━━━━╇━━━━━━━━━━━━━━━━━━━━━━━━╇━━━━━━━━━━━━━━━┩\n",
              "│ convolution_layer (<span style=\"color: #0087ff; text-decoration-color: #0087ff\">Conv2D</span>)      │ (<span style=\"color: #00d7ff; text-decoration-color: #00d7ff\">None</span>, <span style=\"color: #00af00; text-decoration-color: #00af00\">129</span>, <span style=\"color: #00af00; text-decoration-color: #00af00\">1</span>, <span style=\"color: #00af00; text-decoration-color: #00af00\">150</span>)    │        <span style=\"color: #00af00; text-decoration-color: #00af00\">57,750</span> │\n",
              "├─────────────────────────────────┼────────────────────────┼───────────────┤\n",
              "│ batch_normalization_10          │ (<span style=\"color: #00d7ff; text-decoration-color: #00d7ff\">None</span>, <span style=\"color: #00af00; text-decoration-color: #00af00\">129</span>, <span style=\"color: #00af00; text-decoration-color: #00af00\">1</span>, <span style=\"color: #00af00; text-decoration-color: #00af00\">150</span>)    │           <span style=\"color: #00af00; text-decoration-color: #00af00\">600</span> │\n",
              "│ (<span style=\"color: #0087ff; text-decoration-color: #0087ff\">BatchNormalization</span>)            │                        │               │\n",
              "├─────────────────────────────────┼────────────────────────┼───────────────┤\n",
              "│ max_pooling (<span style=\"color: #0087ff; text-decoration-color: #0087ff\">MaxPooling2D</span>)      │ (<span style=\"color: #00d7ff; text-decoration-color: #00d7ff\">None</span>, <span style=\"color: #00af00; text-decoration-color: #00af00\">64</span>, <span style=\"color: #00af00; text-decoration-color: #00af00\">1</span>, <span style=\"color: #00af00; text-decoration-color: #00af00\">150</span>)     │             <span style=\"color: #00af00; text-decoration-color: #00af00\">0</span> │\n",
              "├─────────────────────────────────┼────────────────────────┼───────────────┤\n",
              "│ time_distributed_5              │ (<span style=\"color: #00d7ff; text-decoration-color: #00d7ff\">None</span>, <span style=\"color: #00af00; text-decoration-color: #00af00\">64</span>, <span style=\"color: #00af00; text-decoration-color: #00af00\">150</span>)        │             <span style=\"color: #00af00; text-decoration-color: #00af00\">0</span> │\n",
              "│ (<span style=\"color: #0087ff; text-decoration-color: #0087ff\">TimeDistributed</span>)               │                        │               │\n",
              "├─────────────────────────────────┼────────────────────────┼───────────────┤\n",
              "│ dropout_layer1 (<span style=\"color: #0087ff; text-decoration-color: #0087ff\">Dropout</span>)        │ (<span style=\"color: #00d7ff; text-decoration-color: #00d7ff\">None</span>, <span style=\"color: #00af00; text-decoration-color: #00af00\">64</span>, <span style=\"color: #00af00; text-decoration-color: #00af00\">150</span>)        │             <span style=\"color: #00af00; text-decoration-color: #00af00\">0</span> │\n",
              "├─────────────────────────────────┼────────────────────────┼───────────────┤\n",
              "│ LSTM_layer1 (<span style=\"color: #0087ff; text-decoration-color: #0087ff\">LSTM</span>)              │ (<span style=\"color: #00d7ff; text-decoration-color: #00d7ff\">None</span>, <span style=\"color: #00af00; text-decoration-color: #00af00\">64</span>, <span style=\"color: #00af00; text-decoration-color: #00af00\">20</span>)         │        <span style=\"color: #00af00; text-decoration-color: #00af00\">13,680</span> │\n",
              "├─────────────────────────────────┼────────────────────────┼───────────────┤\n",
              "│ dropout_layer2 (<span style=\"color: #0087ff; text-decoration-color: #0087ff\">Dropout</span>)        │ (<span style=\"color: #00d7ff; text-decoration-color: #00d7ff\">None</span>, <span style=\"color: #00af00; text-decoration-color: #00af00\">64</span>, <span style=\"color: #00af00; text-decoration-color: #00af00\">20</span>)         │             <span style=\"color: #00af00; text-decoration-color: #00af00\">0</span> │\n",
              "├─────────────────────────────────┼────────────────────────┼───────────────┤\n",
              "│ LSTM_layer2 (<span style=\"color: #0087ff; text-decoration-color: #0087ff\">LSTM</span>)              │ (<span style=\"color: #00d7ff; text-decoration-color: #00d7ff\">None</span>, <span style=\"color: #00af00; text-decoration-color: #00af00\">20</span>)             │         <span style=\"color: #00af00; text-decoration-color: #00af00\">3,280</span> │\n",
              "├─────────────────────────────────┼────────────────────────┼───────────────┤\n",
              "│ dense_9 (<span style=\"color: #0087ff; text-decoration-color: #0087ff\">Dense</span>)                 │ (<span style=\"color: #00d7ff; text-decoration-color: #00d7ff\">None</span>, <span style=\"color: #00af00; text-decoration-color: #00af00\">3</span>)              │            <span style=\"color: #00af00; text-decoration-color: #00af00\">63</span> │\n",
              "└─────────────────────────────────┴────────────────────────┴───────────────┘\n",
              "</pre>\n"
            ],
            "text/plain": [
              "┏━━━━━━━━━━━━━━━━━━━━━━━━━━━━━━━━━┳━━━━━━━━━━━━━━━━━━━━━━━━┳━━━━━━━━━━━━━━━┓\n",
              "┃\u001b[1m \u001b[0m\u001b[1mLayer (type)                   \u001b[0m\u001b[1m \u001b[0m┃\u001b[1m \u001b[0m\u001b[1mOutput Shape          \u001b[0m\u001b[1m \u001b[0m┃\u001b[1m \u001b[0m\u001b[1m      Param #\u001b[0m\u001b[1m \u001b[0m┃\n",
              "┡━━━━━━━━━━━━━━━━━━━━━━━━━━━━━━━━━╇━━━━━━━━━━━━━━━━━━━━━━━━╇━━━━━━━━━━━━━━━┩\n",
              "│ convolution_layer (\u001b[38;5;33mConv2D\u001b[0m)      │ (\u001b[38;5;45mNone\u001b[0m, \u001b[38;5;34m129\u001b[0m, \u001b[38;5;34m1\u001b[0m, \u001b[38;5;34m150\u001b[0m)    │        \u001b[38;5;34m57,750\u001b[0m │\n",
              "├─────────────────────────────────┼────────────────────────┼───────────────┤\n",
              "│ batch_normalization_10          │ (\u001b[38;5;45mNone\u001b[0m, \u001b[38;5;34m129\u001b[0m, \u001b[38;5;34m1\u001b[0m, \u001b[38;5;34m150\u001b[0m)    │           \u001b[38;5;34m600\u001b[0m │\n",
              "│ (\u001b[38;5;33mBatchNormalization\u001b[0m)            │                        │               │\n",
              "├─────────────────────────────────┼────────────────────────┼───────────────┤\n",
              "│ max_pooling (\u001b[38;5;33mMaxPooling2D\u001b[0m)      │ (\u001b[38;5;45mNone\u001b[0m, \u001b[38;5;34m64\u001b[0m, \u001b[38;5;34m1\u001b[0m, \u001b[38;5;34m150\u001b[0m)     │             \u001b[38;5;34m0\u001b[0m │\n",
              "├─────────────────────────────────┼────────────────────────┼───────────────┤\n",
              "│ time_distributed_5              │ (\u001b[38;5;45mNone\u001b[0m, \u001b[38;5;34m64\u001b[0m, \u001b[38;5;34m150\u001b[0m)        │             \u001b[38;5;34m0\u001b[0m │\n",
              "│ (\u001b[38;5;33mTimeDistributed\u001b[0m)               │                        │               │\n",
              "├─────────────────────────────────┼────────────────────────┼───────────────┤\n",
              "│ dropout_layer1 (\u001b[38;5;33mDropout\u001b[0m)        │ (\u001b[38;5;45mNone\u001b[0m, \u001b[38;5;34m64\u001b[0m, \u001b[38;5;34m150\u001b[0m)        │             \u001b[38;5;34m0\u001b[0m │\n",
              "├─────────────────────────────────┼────────────────────────┼───────────────┤\n",
              "│ LSTM_layer1 (\u001b[38;5;33mLSTM\u001b[0m)              │ (\u001b[38;5;45mNone\u001b[0m, \u001b[38;5;34m64\u001b[0m, \u001b[38;5;34m20\u001b[0m)         │        \u001b[38;5;34m13,680\u001b[0m │\n",
              "├─────────────────────────────────┼────────────────────────┼───────────────┤\n",
              "│ dropout_layer2 (\u001b[38;5;33mDropout\u001b[0m)        │ (\u001b[38;5;45mNone\u001b[0m, \u001b[38;5;34m64\u001b[0m, \u001b[38;5;34m20\u001b[0m)         │             \u001b[38;5;34m0\u001b[0m │\n",
              "├─────────────────────────────────┼────────────────────────┼───────────────┤\n",
              "│ LSTM_layer2 (\u001b[38;5;33mLSTM\u001b[0m)              │ (\u001b[38;5;45mNone\u001b[0m, \u001b[38;5;34m20\u001b[0m)             │         \u001b[38;5;34m3,280\u001b[0m │\n",
              "├─────────────────────────────────┼────────────────────────┼───────────────┤\n",
              "│ dense_9 (\u001b[38;5;33mDense\u001b[0m)                 │ (\u001b[38;5;45mNone\u001b[0m, \u001b[38;5;34m3\u001b[0m)              │            \u001b[38;5;34m63\u001b[0m │\n",
              "└─────────────────────────────────┴────────────────────────┴───────────────┘\n"
            ]
          },
          "metadata": {},
          "output_type": "display_data"
        },
        {
          "data": {
            "text/html": [
              "<pre style=\"white-space:pre;overflow-x:auto;line-height:normal;font-family:Menlo,'DejaVu Sans Mono',consolas,'Courier New',monospace\"><span style=\"font-weight: bold\"> Total params: </span><span style=\"color: #00af00; text-decoration-color: #00af00\">225,521</span> (880.95 KB)\n",
              "</pre>\n"
            ],
            "text/plain": [
              "\u001b[1m Total params: \u001b[0m\u001b[38;5;34m225,521\u001b[0m (880.95 KB)\n"
            ]
          },
          "metadata": {},
          "output_type": "display_data"
        },
        {
          "data": {
            "text/html": [
              "<pre style=\"white-space:pre;overflow-x:auto;line-height:normal;font-family:Menlo,'DejaVu Sans Mono',consolas,'Courier New',monospace\"><span style=\"font-weight: bold\"> Trainable params: </span><span style=\"color: #00af00; text-decoration-color: #00af00\">75,073</span> (293.25 KB)\n",
              "</pre>\n"
            ],
            "text/plain": [
              "\u001b[1m Trainable params: \u001b[0m\u001b[38;5;34m75,073\u001b[0m (293.25 KB)\n"
            ]
          },
          "metadata": {},
          "output_type": "display_data"
        },
        {
          "data": {
            "text/html": [
              "<pre style=\"white-space:pre;overflow-x:auto;line-height:normal;font-family:Menlo,'DejaVu Sans Mono',consolas,'Courier New',monospace\"><span style=\"font-weight: bold\"> Non-trainable params: </span><span style=\"color: #00af00; text-decoration-color: #00af00\">300</span> (1.17 KB)\n",
              "</pre>\n"
            ],
            "text/plain": [
              "\u001b[1m Non-trainable params: \u001b[0m\u001b[38;5;34m300\u001b[0m (1.17 KB)\n"
            ]
          },
          "metadata": {},
          "output_type": "display_data"
        },
        {
          "data": {
            "text/html": [
              "<pre style=\"white-space:pre;overflow-x:auto;line-height:normal;font-family:Menlo,'DejaVu Sans Mono',consolas,'Courier New',monospace\"><span style=\"font-weight: bold\"> Optimizer params: </span><span style=\"color: #00af00; text-decoration-color: #00af00\">150,148</span> (586.52 KB)\n",
              "</pre>\n"
            ],
            "text/plain": [
              "\u001b[1m Optimizer params: \u001b[0m\u001b[38;5;34m150,148\u001b[0m (586.52 KB)\n"
            ]
          },
          "metadata": {},
          "output_type": "display_data"
        },
        {
          "name": "stdout",
          "output_type": "stream",
          "text": [
            "None\n"
          ]
        }
      ],
      "source": [
        "print(model.summary())"
      ]
    },
    {
      "cell_type": "markdown",
      "metadata": {},
      "source": [
        "> Network Architecture Diagram"
      ]
    },
    {
      "cell_type": "code",
      "execution_count": 334,
      "metadata": {},
      "outputs": [
        {
          "data": {
            "image/png": "[encoded data removed]",
            "text/plain": [
              "<IPython.core.display.Image object>"
            ]
          },
          "execution_count": 334,
          "metadata": {},
          "output_type": "execute_result"
        }
      ],
      "source": [
        "plot_model(model, to_file='../design/model_CNN_sentiment_plot.png', show_shapes=True, show_layer_names=True)"
      ]
    },
    {
      "cell_type": "markdown",
      "metadata": {},
      "source": [
        "> Dump file model_cnn_sentiment.h5"
      ]
    },
    {
      "cell_type": "code",
      "execution_count": 335,
      "metadata": {
        "id": "x0OBJ7E5zh6K"
      },
      "outputs": [
        {
          "name": "stderr",
          "output_type": "stream",
          "text": [
            "WARNING:absl:You are saving your model as an HDF5 file via `model.save()` or `keras.saving.save_model(model)`. This file format is considered legacy. We recommend using instead the native Keras format, e.g. `model.save('my_model.keras')` or `keras.saving.save_model(model, 'my_model.keras')`. \n"
          ]
        }
      ],
      "source": [
        "model.save('../model/model_cnn_sentiment.h5')"
      ]
    },
    {
      "cell_type": "markdown",
      "metadata": {},
      "source": [
        "### 3.5 Evaluation test dataset"
      ]
    },
    {
      "cell_type": "markdown",
      "metadata": {},
      "source": [
        "> Load file models_sentiment.h5"
      ]
    },
    {
      "cell_type": "code",
      "execution_count": 17,
      "metadata": {},
      "outputs": [
        {
          "name": "stderr",
          "output_type": "stream",
          "text": [
            "WARNING:absl:Compiled the loaded model, but the compiled metrics have yet to be built. `model.compile_metrics` will be empty until you train or evaluate the model.\n"
          ]
        }
      ],
      "source": [
        "model_sentiment=load_model(\"../model/model_cnn_sentiment.h5\")"
      ]
    },
    {
      "cell_type": "markdown",
      "metadata": {},
      "source": [
        "> predict  test dataset "
      ]
    },
    {
      "cell_type": "code",
      "execution_count": 337,
      "metadata": {},
      "outputs": [
        {
          "name": "stdout",
          "output_type": "stream",
          "text": [
            "\u001b[1m70/70\u001b[0m \u001b[32m━━━━━━━━━━━━━━━━━━━━\u001b[0m\u001b[37m\u001b[0m \u001b[1m4s\u001b[0m 28ms/step\n"
          ]
        }
      ],
      "source": [
        "result = model_sentiment.predict(test_data)"
      ]
    },
    {
      "cell_type": "markdown",
      "metadata": {},
      "source": [
        "> First 10 lines of comments"
      ]
    },
    {
      "cell_type": "code",
      "execution_count": 338,
      "metadata": {},
      "outputs": [
        {
          "name": "stdout",
          "output_type": "stream",
          "text": [
            "[2 1 2 0 2 1 2 2 2 0]\n",
            "['Positive' 'Neutral' 'Positive' 'Negative' 'Positive' 'Neutral'\n",
            " 'Positive' 'Positive' 'Positive' 'Negative']\n"
          ]
        }
      ],
      "source": [
        "predict_labels = np.argmax(result,axis=1)\n",
        "print(predict_labels[0:10])\n",
        "# Decode the predicted labels\n",
        "predicted_labels_decoded = label_encoder.inverse_transform(predict_labels)\n",
        "print(predicted_labels_decoded[0:10])\n"
      ]
    },
    {
      "cell_type": "markdown",
      "metadata": {},
      "source": [
        "> Data Preprocessing sample"
      ]
    },
    {
      "cell_type": "code",
      "execution_count": 18,
      "metadata": {},
      "outputs": [],
      "source": [
        "def Preprocessing(comment):\n",
        "    comment= remove_punctuation(comment.lower())\n",
        "    comment= remove_stopword(comment)\n",
        "    comment= [ViTokenizer.tokenize(comment)]\n",
        "    comment = wordseparation(comment)\n",
        "    comment =np.expand_dims(comment_embedding(comment[0]),axis=0)\n",
        "    return comment"
      ]
    },
    {
      "cell_type": "markdown",
      "metadata": {},
      "source": [
        "> Predict one a new sample"
      ]
    },
    {
      "cell_type": "code",
      "execution_count": 19,
      "metadata": {},
      "outputs": [
        {
          "name": "stdout",
          "output_type": "stream",
          "text": [
            "\u001b[1m1/1\u001b[0m \u001b[32m━━━━━━━━━━━━━━━━━━━━\u001b[0m\u001b[37m\u001b[0m \u001b[1m1s\u001b[0m 581ms/step\n",
            "['Neutral']\n"
          ]
        }
      ],
      "source": [
        "comment = \"Máy thiết kế quá đẹp ,dùng dk mấy hôm r thấy máy vẫn ổn ,tiếc là pin tụt quá nhanh ,pin sạc thì nhanh nóng 😌\"\n",
        "comment_preprocessed=Preprocessing(comment)\n",
        "result_one = model_sentiment.predict(comment_preprocessed)\n",
        "result_one = np.argmax(result_one,axis=1)\n",
        "# Decode the predicted labels\n",
        "print(label_encoder.inverse_transform(result_one))\n"
      ]
    },
    {
      "cell_type": "markdown",
      "metadata": {},
      "source": [
        "> Evaluate the model through Accuracy measures,Precision,Recall,F1-score,"
      ]
    },
    {
      "cell_type": "code",
      "execution_count": 341,
      "metadata": {},
      "outputs": [
        {
          "name": "stdout",
          "output_type": "stream",
          "text": [
            "Accuracy: 0.8112\n",
            "Precision: 0.8067\n",
            "Recall: 0.8112\n",
            "F1-score: 0.8084574235703501\n"
          ]
        }
      ],
      "source": [
        "accuracy = accuracy_score(y_test_encoded, predict_labels)\n",
        "print(f'Accuracy: {accuracy:.4f}')\n",
        "\n",
        "precision = precision_score(y_test_encoded, predict_labels, average='weighted')\n",
        "print(f\"Precision: {precision:.4f}\")\n",
        "\n",
        "recall = recall_score(y_test_encoded, predict_labels, average='weighted')\n",
        "print(f\"Recall: {recall:.4f}\")\n",
        "\n",
        "f1score = f1_score(y_test_encoded, predict_labels, average='weighted')\n",
        "print(f\"F1-score: {f1score}\")"
      ]
    }
  ],
  "metadata": {
    "accelerator": "GPU",
    "colab": {
      "gpuType": "T4",
      "provenance": []
    },
    "kernelspec": {
      "display_name": "Python 3",
      "name": "python3"
    },
    "language_info": {
      "codemirror_mode": {
        "name": "ipython",
        "version": 3
      },
      "file_extension": ".py",
      "mimetype": "text/x-python",
      "name": "python",
      "nbconvert_exporter": "python",
      "pygments_lexer": "ipython3",
      "version": "3.11.5"
    }
  },
  "nbformat": 4,
  "nbformat_minor": 0
}
